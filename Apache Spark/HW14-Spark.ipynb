{
 "cells": [
  {
   "cell_type": "markdown",
   "metadata": {
    "application/vnd.databricks.v1+cell": {
     "cellMetadata": {
      "byteLimit": 2048000,
      "rowLimit": 10000
     },
     "inputWidgets": {},
     "nuid": "998874f6-f184-424a-82bc-95c959ac5de0",
     "showTitle": false,
     "tableResultSettingsMap": {},
     "title": ""
    }
   },
   "source": [
    "# HW 12: Spark\n",
    "\n",
    "## Syed Nisar Hussain\n",
    "\n",
    "### sh07126@st.habib.edu.pk\n"
   ]
  },
  {
   "cell_type": "code",
   "execution_count": 0,
   "metadata": {
    "application/vnd.databricks.v1+cell": {
     "cellMetadata": {
      "byteLimit": 2048000,
      "rowLimit": 10000
     },
     "inputWidgets": {},
     "nuid": "995767c2-8fbe-4a7d-80ac-3109c45de204",
     "showTitle": false,
     "tableResultSettingsMap": {},
     "title": ""
    }
   },
   "outputs": [],
   "source": [
    "from pyspark import SparkConf, SparkContext\n",
    "from pyspark.sql import SQLContext, SparkSession\n",
    "\n",
    "#sc is the Spark Context already available at databricks, so we do not need to create it again.\n",
    "#sc = SparkContext()\n",
    "# sqlContext = SQLContext(sc)\n",
    "\n",
    "# from pyspark.sql import SparkSession\n",
    "sqlContext = SparkSession.builder.appName('abc').getOrCreate()"
   ]
  },
  {
   "cell_type": "markdown",
   "metadata": {
    "application/vnd.databricks.v1+cell": {
     "cellMetadata": {
      "byteLimit": 2048000,
      "rowLimit": 10000
     },
     "inputWidgets": {},
     "nuid": "dad83ce3-0a95-468b-be6b-eeb20a725806",
     "showTitle": false,
     "tableResultSettingsMap": {},
     "title": ""
    }
   },
   "source": [
    "# Creating RDD (Resilient Distributed Dataset) - fundamental data structure of Spark\n"
   ]
  },
  {
   "cell_type": "code",
   "execution_count": 0,
   "metadata": {
    "application/vnd.databricks.v1+cell": {
     "cellMetadata": {
      "byteLimit": 2048000,
      "rowLimit": 10000
     },
     "inputWidgets": {},
     "nuid": "85a92d7d-862a-43da-a8e8-c1505a52225f",
     "showTitle": false,
     "tableResultSettingsMap": {},
     "title": ""
    }
   },
   "outputs": [],
   "source": [
    "products = sc.textFile(\"/FileStore/tables/SalesData.txt\")"
   ]
  },
  {
   "cell_type": "code",
   "execution_count": 0,
   "metadata": {
    "application/vnd.databricks.v1+cell": {
     "cellMetadata": {
      "byteLimit": 2048000,
      "rowLimit": 10000
     },
     "inputWidgets": {},
     "nuid": "2aa738f2-f4d1-4901-aad0-d5a8ee807c89",
     "showTitle": false,
     "tableResultSettingsMap": {},
     "title": ""
    }
   },
   "outputs": [
    {
     "name": "stdout",
     "output_type": "stream",
     "text": [
      "Out[3]: 'ProductID\\tName\\tProductNumber\\tColor\\tStandardCost\\tListPrice\\tSize\\tWeight\\tProductCategoryID\\tProductModelID\\tSellStartDate\\tSellEndDate\\tDiscontinuedDate\\tThumbNailPhoto\\tThumbnailPhotoFileName\\trowguid\\tModifiedDate'"
     ]
    }
   ],
   "source": [
    "products.first()"
   ]
  },
  {
   "cell_type": "code",
   "execution_count": 0,
   "metadata": {
    "application/vnd.databricks.v1+cell": {
     "cellMetadata": {
      "byteLimit": 2048000,
      "rowLimit": 10000
     },
     "inputWidgets": {},
     "nuid": "1d226610-9a0e-4915-9861-82c2b2163b0c",
     "showTitle": false,
     "tableResultSettingsMap": {},
     "title": ""
    }
   },
   "outputs": [
    {
     "name": "stdout",
     "output_type": "stream",
     "text": [
      "The data has 17 columns\n",
      "Out[4]: ['ProductID',\n",
      " 'Name',\n",
      " 'ProductNumber',\n",
      " 'Color',\n",
      " 'StandardCost',\n",
      " 'ListPrice',\n",
      " 'Size',\n",
      " 'Weight',\n",
      " 'ProductCategoryID',\n",
      " 'ProductModelID',\n",
      " 'SellStartDate',\n",
      " 'SellEndDate',\n",
      " 'DiscontinuedDate',\n",
      " 'ThumbNailPhoto',\n",
      " 'ThumbnailPhotoFileName',\n",
      " 'rowguid',\n",
      " 'ModifiedDate']"
     ]
    }
   ],
   "source": [
    "print(\"The data has {} columns\".format(len(products.first().split(\"\\t\"))))\n",
    "header = products.first().split(\"\\t\")\n",
    "header"
   ]
  },
  {
   "cell_type": "code",
   "execution_count": 0,
   "metadata": {
    "application/vnd.databricks.v1+cell": {
     "cellMetadata": {
      "byteLimit": 2048000,
      "rowLimit": 10000
     },
     "inputWidgets": {},
     "nuid": "ae301838-99e7-4a98-9531-f399521e6e46",
     "showTitle": false,
     "tableResultSettingsMap": {},
     "title": ""
    }
   },
   "outputs": [],
   "source": [
    "head = products.first()\n",
    "content = products.filter(lambda line: line != head)"
   ]
  },
  {
   "cell_type": "code",
   "execution_count": 0,
   "metadata": {
    "application/vnd.databricks.v1+cell": {
     "cellMetadata": {
      "byteLimit": 2048000,
      "rowLimit": 10000
     },
     "inputWidgets": {},
     "nuid": "b25629db-cfa9-4fd9-93fb-a1dc0fe5a044",
     "showTitle": false,
     "tableResultSettingsMap": {},
     "title": ""
    }
   },
   "outputs": [
    {
     "name": "stdout",
     "output_type": "stream",
     "text": [
      "Out[6]: '680\\tHL Road Frame - Black, 58\\tFR-R92B-58\\tBlack\\t1059.31\\t1431.50\\t58\\t1016.04\\t18\\t6\\t1998-06-01 00:00:00.000\\tNULL\\tNULL\\t0x47494638396150003100F70000000000800000008000808000000080800080008080808080C0C0C0FF000000FF00FFFF000000FFFF00FF00FFFFFFFFFF000000000000000000000000000000000000000000000000000000000000000000000000000000000000000000000000000000000000000000000000000000000000\\tno_image_available_small.gif\\t43DD68D6-14A4-461F-9069-55309D90EA7E\\t2004-03-11 10:01:36.827'"
     ]
    }
   ],
   "source": [
    "content.first()"
   ]
  },
  {
   "cell_type": "code",
   "execution_count": 0,
   "metadata": {
    "application/vnd.databricks.v1+cell": {
     "cellMetadata": {
      "byteLimit": 2048000,
      "rowLimit": 10000
     },
     "inputWidgets": {},
     "nuid": "7c6477b3-ae17-40c9-ad94-e226c1d96a67",
     "showTitle": false,
     "tableResultSettingsMap": {},
     "title": ""
    }
   },
   "outputs": [
    {
     "name": "stdout",
     "output_type": "stream",
     "text": [
      "Out[7]: 17"
     ]
    }
   ],
   "source": [
    "content.map(lambda line: len(line.split(\"\\t\"))).distinct().collect()[0]"
   ]
  },
  {
   "cell_type": "markdown",
   "metadata": {
    "application/vnd.databricks.v1+cell": {
     "cellMetadata": {
      "byteLimit": 2048000,
      "rowLimit": 10000
     },
     "inputWidgets": {},
     "nuid": "a3097865-16c7-4069-bf6b-b61d2a71ced9",
     "showTitle": false,
     "tableResultSettingsMap": {},
     "title": ""
    }
   },
   "source": [
    "# Example of RDD using Scala\n"
   ]
  },
  {
   "cell_type": "code",
   "execution_count": 0,
   "metadata": {
    "application/vnd.databricks.v1+cell": {
     "cellMetadata": {
      "byteLimit": 2048000,
      "rowLimit": 10000
     },
     "inputWidgets": {},
     "nuid": "fd3e1c26-ea05-4ffb-b91d-6ef5936864db",
     "showTitle": false,
     "tableResultSettingsMap": {},
     "title": ""
    }
   },
   "outputs": [
    {
     "name": "stdout",
     "output_type": "stream",
     "text": [
      "Out[8]: [['680',\n",
      "  'HL Road Frame - Black, 58',\n",
      "  'FR-R92B-58',\n",
      "  'Black',\n",
      "  '1059.31',\n",
      "  '1431.50',\n",
      "  '58',\n",
      "  '1016.04',\n",
      "  '18',\n",
      "  '6',\n",
      "  '1998-06-01 00:00:00.000',\n",
      "  'NULL',\n",
      "  'NULL',\n",
      "  '0x47494638396150003100F70000000000800000008000808000000080800080008080808080C0C0C0FF000000FF00FFFF000000FFFF00FF00FFFFFFFFFF000000000000000000000000000000000000000000000000000000000000000000000000000000000000000000000000000000000000000000000000000000000000',\n",
      "  'no_image_available_small.gif',\n",
      "  '43DD68D6-14A4-461F-9069-55309D90EA7E',\n",
      "  '2004-03-11 10:01:36.827']]"
     ]
    }
   ],
   "source": [
    "rdd1 = (content.filter(lambda line: line.split(\"\\t\"))\n",
    " .map(lambda line: (line.split(\"\\t\")))\n",
    ")\n",
    "rdd1.take(1)"
   ]
  },
  {
   "cell_type": "markdown",
   "metadata": {
    "application/vnd.databricks.v1+cell": {
     "cellMetadata": {
      "byteLimit": 2048000,
      "rowLimit": 10000
     },
     "inputWidgets": {},
     "nuid": "a105419c-a4d8-4fee-a173-8a25b774998c",
     "showTitle": false,
     "tableResultSettingsMap": {},
     "title": ""
    }
   },
   "source": [
    "# Converting RDD into Spark Dataframe\n"
   ]
  },
  {
   "cell_type": "code",
   "execution_count": 0,
   "metadata": {
    "application/vnd.databricks.v1+cell": {
     "cellMetadata": {
      "byteLimit": 2048000,
      "rowLimit": 10000
     },
     "inputWidgets": {},
     "nuid": "9a3f50ec-faaf-4aae-975c-5eeb4b1f66d6",
     "showTitle": false,
     "tableResultSettingsMap": {},
     "title": ""
    }
   },
   "outputs": [
    {
     "name": "stdout",
     "output_type": "stream",
     "text": [
      "+---------+--------------------+-------------+-----+------------+---------+----+-------+-----------------+--------------+--------------------+--------------------+----------------+--------------------+----------------------+--------------------+--------------------+\n",
      "|ProductID|                Name|ProductNumber|Color|StandardCost|ListPrice|Size| Weight|ProductCategoryID|ProductModelID|       SellStartDate|         SellEndDate|DiscontinuedDate|      ThumbNailPhoto|ThumbnailPhotoFileName|             rowguid|        ModifiedDate|\n",
      "+---------+--------------------+-------------+-----+------------+---------+----+-------+-----------------+--------------+--------------------+--------------------+----------------+--------------------+----------------------+--------------------+--------------------+\n",
      "|      680|HL Road Frame - B...|   FR-R92B-58|Black|     1059.31|  1431.50|  58|1016.04|               18|             6|1998-06-01 00:00:...|                NULL|            NULL|0x474946383961500...|  no_image_availabl...|43DD68D6-14A4-461...|2004-03-11 10:01:...|\n",
      "|      706|HL Road Frame - R...|   FR-R92R-58|  Red|     1059.31|  1431.50|  58|1016.04|               18|             6|1998-06-01 00:00:...|                NULL|            NULL|0x474946383961500...|  no_image_availabl...|9540FF17-2712-4C9...|2004-03-11 10:01:...|\n",
      "|      707|Sport-100 Helmet,...|    HL-U509-R|  Red|     13.0863|    34.99|NULL|   NULL|               35|            33|2001-07-01 00:00:...|                NULL|            NULL|0x474946383961500...|  no_image_availabl...|2E1EF41A-C08A-4FF...|2004-03-11 10:01:...|\n",
      "|      708|Sport-100 Helmet,...|      HL-U509|Black|     13.0863|    34.99|NULL|   NULL|               35|            33|2001-07-01 00:00:...|                NULL|            NULL|0x474946383961500...|  no_image_availabl...|A25A44FB-C2DE-426...|2004-03-11 10:01:...|\n",
      "|      709|Mountain Bike Soc...|    SO-B909-M|White|      3.3963|     9.50|   M|   NULL|               27|            18|2001-07-01 00:00:...|2002-06-30 00:00:...|            NULL|0x474946383961500...|  no_image_availabl...|18F95F47-1540-4E0...|2004-03-11 10:01:...|\n",
      "|      710|Mountain Bike Soc...|    SO-B909-L|White|      3.3963|     9.50|   L|   NULL|               27|            18|2001-07-01 00:00:...|2002-06-30 00:00:...|            NULL|0x474946383961500...|  no_image_availabl...|161C035E-21B3-4E1...|2004-03-11 10:01:...|\n",
      "|      711|Sport-100 Helmet,...|    HL-U509-B| Blue|     13.0863|    34.99|NULL|   NULL|               35|            33|2001-07-01 00:00:...|                NULL|            NULL|0x474946383961500...|  no_image_availabl...|FD7C0858-4179-48C...|2004-03-11 10:01:...|\n",
      "|      712|        AWC Logo Cap|      CA-1098|Multi|      6.9223|     8.99|NULL|   NULL|               23|             2|2001-07-01 00:00:...|                NULL|            NULL|0x474946383961500...|  no_image_availabl...|B9EDE243-A6F4-462...|2004-03-11 10:01:...|\n",
      "|      713|Long-Sleeve Logo ...|    LJ-0192-S|Multi|     38.4923|    49.99|   S|   NULL|               25|            11|2001-07-01 00:00:...|                NULL|            NULL|0x474946383961500...|  awc_jersey_male_s...|FD449C82-A259-4FA...|2004-03-11 10:01:...|\n",
      "|      714|Long-Sleeve Logo ...|    LJ-0192-M|Multi|     38.4923|    49.99|   M|   NULL|               25|            11|2001-07-01 00:00:...|                NULL|            NULL|0x474946383961500...|  awc_jersey_male_s...|6A290063-A0CF-432...|2004-03-11 10:01:...|\n",
      "|      715|Long-Sleeve Logo ...|    LJ-0192-L|Multi|     38.4923|    49.99|   L|   NULL|               25|            11|2001-07-01 00:00:...|                NULL|            NULL|0x474946383961500...|  awc_jersey_male_s...|34CF5EF5-C077-4EA...|2004-03-11 10:01:...|\n",
      "|      716|Long-Sleeve Logo ...|    LJ-0192-X|Multi|     38.4923|    49.99|  XL|   NULL|               25|            11|2001-07-01 00:00:...|                NULL|            NULL|0x474946383961500...|  awc_jersey_male_s...|6EC47EC9-C041-4DD...|2004-03-11 10:01:...|\n",
      "|      717|HL Road Frame - R...|   FR-R92R-62|  Red|    868.6342|  1431.50|  62|1043.26|               18|             6|2001-07-01 00:00:...|                NULL|            NULL|0x474946383961500...|  no_image_availabl...|052E4F8B-0A2A-46B...|2004-03-11 10:01:...|\n",
      "|      718|HL Road Frame - R...|   FR-R92R-44|  Red|    868.6342|  1431.50|  44| 961.61|               18|             6|2001-07-01 00:00:...|                NULL|            NULL|0x474946383961500...|  no_image_availabl...|A88D3B54-2CAE-43F...|2004-03-11 10:01:...|\n",
      "|      719|HL Road Frame - R...|   FR-R92R-48|  Red|    868.6342|  1431.50|  48| 979.75|               18|             6|2001-07-01 00:00:...|                NULL|            NULL|0x474946383961500...|  no_image_availabl...|07BEFC9A-7634-402...|2004-03-11 10:01:...|\n",
      "|      720|HL Road Frame - R...|   FR-R92R-52|  Red|    868.6342|  1431.50|  52| 997.90|               18|             6|2001-07-01 00:00:...|                NULL|            NULL|0x474946383961500...|  no_image_availabl...|FCFEA68F-310E-4E6...|2004-03-11 10:01:...|\n",
      "|      721|HL Road Frame - R...|   FR-R92R-56|  Red|    868.6342|  1431.50|  56|1016.04|               18|             6|2001-07-01 00:00:...|                NULL|            NULL|0x474946383961500...|  no_image_availabl...|56C85873-4993-41B...|2004-03-11 10:01:...|\n",
      "|      722|LL Road Frame - B...|   FR-R38B-58|Black|    204.6251|   337.22|  58|1115.83|               18|             9|2001-07-01 00:00:...|                NULL|            NULL|0x474946383961500...|  no_image_availabl...|2140F256-F705-4D6...|2004-03-11 10:01:...|\n",
      "|      723|LL Road Frame - B...|   FR-R38B-60|Black|    204.6251|   337.22|  60|1124.90|               18|             9|2001-07-01 00:00:...|                NULL|            NULL|0x474946383961500...|  no_image_availabl...|AA95E2A5-E7C4-4B7...|2004-03-11 10:01:...|\n",
      "|      724|LL Road Frame - B...|   FR-R38B-62|Black|    204.6251|   337.22|  62|1133.98|               18|             9|2001-07-01 00:00:...|                NULL|            NULL|0x474946383961500...|  no_image_availabl...|5247BE33-50BF-452...|2004-03-11 10:01:...|\n",
      "+---------+--------------------+-------------+-----+------------+---------+----+-------+-----------------+--------------+--------------------+--------------------+----------------+--------------------+----------------------+--------------------+--------------------+\n",
      "only showing top 20 rows\n",
      "\n"
     ]
    }
   ],
   "source": [
    "df = rdd1.toDF(header)\n",
    "df.show()"
   ]
  },
  {
   "cell_type": "markdown",
   "metadata": {
    "application/vnd.databricks.v1+cell": {
     "cellMetadata": {
      "byteLimit": 2048000,
      "rowLimit": 10000
     },
     "inputWidgets": {},
     "nuid": "fb282bbf-f4b2-4299-9c07-9b978bce0169",
     "showTitle": false,
     "tableResultSettingsMap": {},
     "title": ""
    }
   },
   "source": [
    "# Using Two Different Code/Syntax\n",
    "\n",
    "## Spark Dataframe syntax and SQL Table syntax\n"
   ]
  },
  {
   "cell_type": "markdown",
   "metadata": {
    "application/vnd.databricks.v1+cell": {
     "cellMetadata": {
      "byteLimit": 2048000,
      "rowLimit": 10000
     },
     "inputWidgets": {},
     "nuid": "634a7e65-f23f-4043-963f-feeaa28bfa85",
     "showTitle": false,
     "tableResultSettingsMap": {},
     "title": ""
    }
   },
   "source": [
    "### Spark Dataframe syntax\n"
   ]
  },
  {
   "cell_type": "code",
   "execution_count": 0,
   "metadata": {
    "application/vnd.databricks.v1+cell": {
     "cellMetadata": {
      "byteLimit": 2048000,
      "rowLimit": 10000
     },
     "inputWidgets": {},
     "nuid": "fae7aa88-69b3-42fe-b863-c890bb7975eb",
     "showTitle": false,
     "tableResultSettingsMap": {},
     "title": ""
    }
   },
   "outputs": [
    {
     "name": "stdout",
     "output_type": "stream",
     "text": [
      "+-------------------------+-------+\n",
      "|Name                     |Weight |\n",
      "+-------------------------+-------+\n",
      "|HL Road Frame - Black, 58|1016.04|\n",
      "|HL Road Frame - Red, 58  |1016.04|\n",
      "|Sport-100 Helmet, Red    |null   |\n",
      "|Sport-100 Helmet, Black  |null   |\n",
      "|Mountain Bike Socks, M   |null   |\n",
      "+-------------------------+-------+\n",
      "only showing top 5 rows\n",
      "\n"
     ]
    }
   ],
   "source": [
    "# selecting two columns Name and Weight from original dataframe and convert into their proper datatype. Default is string\n",
    "spark_df = df.select(df.Name, df.Weight.cast(\"float\"))\n",
    "spark_df.show(5, truncate=False)"
   ]
  },
  {
   "cell_type": "markdown",
   "metadata": {
    "application/vnd.databricks.v1+cell": {
     "cellMetadata": {
      "byteLimit": 2048000,
      "rowLimit": 10000
     },
     "inputWidgets": {},
     "nuid": "76e9f5d3-2ce4-42a6-8a97-151f62966559",
     "showTitle": false,
     "tableResultSettingsMap": {},
     "title": ""
    }
   },
   "source": [
    "### SQL Table syntax\n",
    "\n",
    "First convert the original Spark Dataframe df into SQL Table and then write SQL syntax\n"
   ]
  },
  {
   "cell_type": "code",
   "execution_count": 0,
   "metadata": {
    "application/vnd.databricks.v1+cell": {
     "cellMetadata": {
      "byteLimit": 2048000,
      "rowLimit": 10000
     },
     "inputWidgets": {},
     "nuid": "ba37d163-0abd-47ac-a2dd-609382697ca7",
     "showTitle": false,
     "tableResultSettingsMap": {},
     "title": ""
    }
   },
   "outputs": [
    {
     "name": "stdout",
     "output_type": "stream",
     "text": [
      "+-------------------------+-------+\n",
      "|Name                     |Weight |\n",
      "+-------------------------+-------+\n",
      "|HL Road Frame - Black, 58|1016.04|\n",
      "|HL Road Frame - Red, 58  |1016.04|\n",
      "|Sport-100 Helmet, Red    |null   |\n",
      "|Sport-100 Helmet, Black  |null   |\n",
      "|Mountain Bike Socks, M   |null   |\n",
      "+-------------------------+-------+\n",
      "\n"
     ]
    }
   ],
   "source": [
    "# convert the original Spark Dataframe df into SQL Table\n",
    "df.createOrReplaceTempView(\"df_table\")\n",
    "# write SQL query syntax\n",
    "sqlContext.sql(\" SELECT Name, cast(Weight as float) FROM df_table limit 5\").show(truncate=False)"
   ]
  },
  {
   "cell_type": "markdown",
   "metadata": {
    "application/vnd.databricks.v1+cell": {
     "cellMetadata": {
      "byteLimit": 2048000,
      "rowLimit": 10000
     },
     "inputWidgets": {},
     "nuid": "69d4323b-c498-4abe-b321-1a62cd627ed8",
     "showTitle": false,
     "tableResultSettingsMap": {},
     "title": ""
    }
   },
   "source": [
    "## Write your solutions using Spark Dataframe syntax and Spark SQL syntax. Your output should match with the RDD output\n"
   ]
  },
  {
   "cell_type": "markdown",
   "metadata": {
    "application/vnd.databricks.v1+cell": {
     "cellMetadata": {
      "byteLimit": 2048000,
      "rowLimit": 10000
     },
     "inputWidgets": {},
     "nuid": "6019e613-c169-4946-923d-2d87ba1ce274",
     "showTitle": false,
     "tableResultSettingsMap": {},
     "title": ""
    }
   },
   "source": [
    "#### 1. Find the names and weight of the top 15 products by weight. Sort weight by descending order.\n"
   ]
  },
  {
   "cell_type": "markdown",
   "metadata": {
    "application/vnd.databricks.v1+cell": {
     "cellMetadata": {
      "byteLimit": 2048000,
      "rowLimit": 10000
     },
     "inputWidgets": {},
     "nuid": "cf59b76e-c51a-4445-9d49-eb6dc0c6ad00",
     "showTitle": false,
     "tableResultSettingsMap": {},
     "title": ""
    }
   },
   "source": [
    "##### Using RDD\n"
   ]
  },
  {
   "cell_type": "code",
   "execution_count": 0,
   "metadata": {
    "application/vnd.databricks.v1+cell": {
     "cellMetadata": {
      "byteLimit": 2048000,
      "rowLimit": 10000
     },
     "inputWidgets": {},
     "nuid": "728d67e4-bc29-4991-a999-154e1450fbf6",
     "showTitle": false,
     "tableResultSettingsMap": {},
     "title": ""
    }
   },
   "outputs": [
    {
     "name": "stdout",
     "output_type": "stream",
     "text": [
      "Out[12]: [('Touring-3000 Blue, 62', 13607.7),\n",
      " ('Touring-3000 Yellow, 62', 13607.7),\n",
      " ('Touring-3000 Blue, 58', 13562.34),\n",
      " ('Touring-3000 Yellow, 58', 13512.45),\n",
      " ('Touring-3000 Blue, 54', 13462.55),\n",
      " ('Touring-3000 Yellow, 54', 13344.62),\n",
      " ('Touring-3000 Yellow, 50', 13213.08),\n",
      " ('Touring-3000 Blue, 50', 13213.08),\n",
      " ('Touring-3000 Yellow, 44', 13049.78),\n",
      " ('Touring-3000 Blue, 44', 13049.78),\n",
      " ('Mountain-500 Silver, 52', 13008.96),\n",
      " ('Mountain-500 Black, 52', 13008.96),\n",
      " ('Mountain-500 Silver, 48', 12891.03),\n",
      " ('Mountain-500 Black, 48', 12891.03),\n",
      " ('Mountain-500 Silver, 44', 12759.49)]"
     ]
    }
   ],
   "source": [
    "(content.filter(lambda line: line.split(\"\\t\")[7] != \"NULL\")\n",
    " .map(lambda line: (line.split(\"\\t\")[1], float(line.split(\"\\t\")[7])))\n",
    "                     .takeOrdered(15, lambda x : -x[1])\n",
    "                    )"
   ]
  },
  {
   "cell_type": "markdown",
   "metadata": {
    "application/vnd.databricks.v1+cell": {
     "cellMetadata": {
      "byteLimit": 2048000,
      "rowLimit": 10000
     },
     "inputWidgets": {},
     "nuid": "9908f57f-848d-49c8-a3c9-5040d1e35a32",
     "showTitle": false,
     "tableResultSettingsMap": {},
     "title": ""
    }
   },
   "source": [
    "##### Using Spark DataFrame\n"
   ]
  },
  {
   "cell_type": "code",
   "execution_count": 0,
   "metadata": {
    "application/vnd.databricks.v1+cell": {
     "cellMetadata": {
      "byteLimit": 2048000,
      "rowLimit": 10000
     },
     "inputWidgets": {},
     "nuid": "16c097bd-6deb-4dd6-967c-98b4a32c89dd",
     "showTitle": false,
     "tableResultSettingsMap": {},
     "title": ""
    }
   },
   "outputs": [
    {
     "name": "stdout",
     "output_type": "stream",
     "text": [
      "+--------------------+--------+\n",
      "|                Name|  Weight|\n",
      "+--------------------+--------+\n",
      "|Touring-3000 Yell...| 13607.7|\n",
      "|Touring-3000 Blue...| 13607.7|\n",
      "|Touring-3000 Blue...|13562.34|\n",
      "|Touring-3000 Yell...|13512.45|\n",
      "|Touring-3000 Blue...|13462.55|\n",
      "|Touring-3000 Yell...|13344.62|\n",
      "|Touring-3000 Yell...|13213.08|\n",
      "|Touring-3000 Blue...|13213.08|\n",
      "|Touring-3000 Yell...|13049.78|\n",
      "|Touring-3000 Blue...|13049.78|\n",
      "|Mountain-500 Silv...|13008.96|\n",
      "|Mountain-500 Blac...|13008.96|\n",
      "|Mountain-500 Silv...|12891.03|\n",
      "|Mountain-500 Blac...|12891.03|\n",
      "|Mountain-500 Silv...|12759.49|\n",
      "+--------------------+--------+\n",
      "\n"
     ]
    }
   ],
   "source": [
    "(df.filter(df.Weight.isNotNull())\n",
    "    .select(df.Name, df.Weight.cast(\"float\"))\n",
    "    .orderBy(df.Weight.cast(\"float\").desc())\n",
    "    .limit(15)).show()"
   ]
  },
  {
   "cell_type": "markdown",
   "metadata": {
    "application/vnd.databricks.v1+cell": {
     "cellMetadata": {
      "byteLimit": 2048000,
      "rowLimit": 10000
     },
     "inputWidgets": {},
     "nuid": "d1aee5df-1ab5-4a8d-a36c-1ae78c3d1195",
     "showTitle": false,
     "tableResultSettingsMap": {},
     "title": ""
    }
   },
   "source": [
    "##### Using Spark SQL\n"
   ]
  },
  {
   "cell_type": "code",
   "execution_count": 0,
   "metadata": {
    "application/vnd.databricks.v1+cell": {
     "cellMetadata": {
      "byteLimit": 2048000,
      "rowLimit": 10000
     },
     "inputWidgets": {},
     "nuid": "dc945e57-6428-4d09-b227-b875758c36f9",
     "showTitle": false,
     "tableResultSettingsMap": {},
     "title": ""
    }
   },
   "outputs": [
    {
     "name": "stdout",
     "output_type": "stream",
     "text": [
      "+--------------------+--------+\n",
      "|                Name|  Weight|\n",
      "+--------------------+--------+\n",
      "|Touring-3000 Yell...| 13607.7|\n",
      "|Touring-3000 Blue...| 13607.7|\n",
      "|Touring-3000 Blue...|13562.34|\n",
      "|Touring-3000 Yell...|13512.45|\n",
      "|Touring-3000 Blue...|13462.55|\n",
      "|Touring-3000 Yell...|13344.62|\n",
      "|Touring-3000 Yell...|13213.08|\n",
      "|Touring-3000 Blue...|13213.08|\n",
      "|Touring-3000 Yell...|13049.78|\n",
      "|Touring-3000 Blue...|13049.78|\n",
      "|Mountain-500 Silv...|13008.96|\n",
      "|Mountain-500 Blac...|13008.96|\n",
      "|Mountain-500 Silv...|12891.03|\n",
      "|Mountain-500 Blac...|12891.03|\n",
      "|Mountain-500 Silv...|12759.49|\n",
      "+--------------------+--------+\n",
      "\n"
     ]
    }
   ],
   "source": [
    "sqlContext.sql(\"\"\"\n",
    "    SELECT Name, cast(Weight as float)\n",
    "    FROM df_table\n",
    "    WHERE Weight IS NOT NULL\n",
    "    ORDER BY Weight DESC\n",
    "    LIMIT 15\n",
    "\"\"\").show()"
   ]
  },
  {
   "cell_type": "markdown",
   "metadata": {
    "application/vnd.databricks.v1+cell": {
     "cellMetadata": {
      "byteLimit": 2048000,
      "rowLimit": 10000
     },
     "inputWidgets": {},
     "nuid": "6a364981-2a82-4a66-940d-b62a3c2eabad",
     "showTitle": false,
     "tableResultSettingsMap": {},
     "title": ""
    }
   },
   "source": [
    "#### 2. Retrieve product details (name, color, size, product model ID) for products where the product model ID is 5\n"
   ]
  },
  {
   "cell_type": "markdown",
   "metadata": {
    "application/vnd.databricks.v1+cell": {
     "cellMetadata": {
      "byteLimit": 2048000,
      "rowLimit": 10000
     },
     "inputWidgets": {},
     "nuid": "30dffc8a-4473-4429-83ba-4ce42cb63432",
     "showTitle": false,
     "tableResultSettingsMap": {},
     "title": ""
    }
   },
   "source": [
    "##### Using RDD\n"
   ]
  },
  {
   "cell_type": "code",
   "execution_count": 0,
   "metadata": {
    "application/vnd.databricks.v1+cell": {
     "cellMetadata": {
      "byteLimit": 2048000,
      "rowLimit": 10000
     },
     "inputWidgets": {},
     "nuid": "b7f96168-273f-4786-8231-ee60b60aae89",
     "showTitle": false,
     "tableResultSettingsMap": {},
     "title": ""
    }
   },
   "outputs": [
    {
     "name": "stdout",
     "output_type": "stream",
     "text": [
      "Out[15]: [('HL Mountain Frame - Silver, 42', 'Silver', '42', '5'),\n",
      " ('HL Mountain Frame - Silver, 44', 'Silver', '44', '5'),\n",
      " ('HL Mountain Frame - Silver, 48', 'Silver', '48', '5'),\n",
      " ('HL Mountain Frame - Silver, 46', 'Silver', '46', '5'),\n",
      " ('HL Mountain Frame - Black, 42', 'Black', '42', '5'),\n",
      " ('HL Mountain Frame - Black, 44', 'Black', '44', '5'),\n",
      " ('HL Mountain Frame - Black, 48', 'Black', '48', '5'),\n",
      " ('HL Mountain Frame - Black, 46', 'Black', '46', '5'),\n",
      " ('HL Mountain Frame - Black, 38', 'Black', '38', '5'),\n",
      " ('HL Mountain Frame - Silver, 38', 'Silver', '38', '5')]"
     ]
    }
   ],
   "source": [
    "(content.filter(lambda line:line.split(\"\\t\")[9]==\"5\")\n",
    " .map(lambda line: (line.split(\"\\t\")[1],line.split(\"\\t\")[3], line.split(\"\\t\")[6], line.split(\"\\t\")[9])).collect()\n",
    ")"
   ]
  },
  {
   "cell_type": "markdown",
   "metadata": {
    "application/vnd.databricks.v1+cell": {
     "cellMetadata": {
      "byteLimit": 2048000,
      "rowLimit": 10000
     },
     "inputWidgets": {},
     "nuid": "4d8dabcd-bf51-4d10-96e6-71df3695d272",
     "showTitle": false,
     "tableResultSettingsMap": {},
     "title": ""
    }
   },
   "source": [
    "##### Using Spark Dataframe\n"
   ]
  },
  {
   "cell_type": "code",
   "execution_count": 0,
   "metadata": {
    "application/vnd.databricks.v1+cell": {
     "cellMetadata": {
      "byteLimit": 2048000,
      "rowLimit": 10000
     },
     "inputWidgets": {},
     "nuid": "cdf6ee7e-f5b8-410f-b26f-eaeaff7d1c30",
     "showTitle": false,
     "tableResultSettingsMap": {},
     "title": ""
    }
   },
   "outputs": [
    {
     "name": "stdout",
     "output_type": "stream",
     "text": [
      "+--------------------+------+----+--------------+\n",
      "|                Name| Color|Size|ProductModelID|\n",
      "+--------------------+------+----+--------------+\n",
      "|HL Mountain Frame...|Silver|  42|             5|\n",
      "|HL Mountain Frame...|Silver|  44|             5|\n",
      "|HL Mountain Frame...|Silver|  48|             5|\n",
      "|HL Mountain Frame...|Silver|  46|             5|\n",
      "|HL Mountain Frame...| Black|  42|             5|\n",
      "|HL Mountain Frame...| Black|  44|             5|\n",
      "|HL Mountain Frame...| Black|  48|             5|\n",
      "|HL Mountain Frame...| Black|  46|             5|\n",
      "|HL Mountain Frame...| Black|  38|             5|\n",
      "|HL Mountain Frame...|Silver|  38|             5|\n",
      "+--------------------+------+----+--------------+\n",
      "\n"
     ]
    }
   ],
   "source": [
    "(df.filter(df.ProductModelID == 5)\n",
    "    .select(df.Name, df.Color, df.Size.cast(\"int\"), df.ProductModelID)).show()"
   ]
  },
  {
   "cell_type": "markdown",
   "metadata": {
    "application/vnd.databricks.v1+cell": {
     "cellMetadata": {
      "byteLimit": 2048000,
      "rowLimit": 10000
     },
     "inputWidgets": {},
     "nuid": "c961a430-7293-4f8d-b3f9-c4070c1e235e",
     "showTitle": false,
     "tableResultSettingsMap": {},
     "title": ""
    }
   },
   "source": [
    "##### Using Spark SQL\n"
   ]
  },
  {
   "cell_type": "code",
   "execution_count": 0,
   "metadata": {
    "application/vnd.databricks.v1+cell": {
     "cellMetadata": {
      "byteLimit": 2048000,
      "rowLimit": 10000
     },
     "inputWidgets": {},
     "nuid": "4332a9af-30c6-4395-b25e-c6147aad93dd",
     "showTitle": false,
     "tableResultSettingsMap": {},
     "title": ""
    }
   },
   "outputs": [
    {
     "name": "stdout",
     "output_type": "stream",
     "text": [
      "+--------------------+------+----+--------------+\n",
      "|                Name| Color|Size|ProductModelID|\n",
      "+--------------------+------+----+--------------+\n",
      "|HL Mountain Frame...|Silver|  42|             5|\n",
      "|HL Mountain Frame...|Silver|  44|             5|\n",
      "|HL Mountain Frame...|Silver|  48|             5|\n",
      "|HL Mountain Frame...|Silver|  46|             5|\n",
      "|HL Mountain Frame...| Black|  42|             5|\n",
      "|HL Mountain Frame...| Black|  44|             5|\n",
      "|HL Mountain Frame...| Black|  48|             5|\n",
      "|HL Mountain Frame...| Black|  46|             5|\n",
      "|HL Mountain Frame...| Black|  38|             5|\n",
      "|HL Mountain Frame...|Silver|  38|             5|\n",
      "+--------------------+------+----+--------------+\n",
      "\n"
     ]
    }
   ],
   "source": [
    "sqlContext.sql(\"\"\"\n",
    "    SELECT Name, Color, cast(Size as integer), ProductModelID\n",
    "    FROM df_table\n",
    "    WHERE ProductModelID = 5\n",
    "\"\"\").show()"
   ]
  },
  {
   "cell_type": "markdown",
   "metadata": {
    "application/vnd.databricks.v1+cell": {
     "cellMetadata": {
      "byteLimit": 2048000,
      "rowLimit": 10000
     },
     "inputWidgets": {},
     "nuid": "e3c9fc97-d853-479d-bbe2-134342535de9",
     "showTitle": false,
     "tableResultSettingsMap": {},
     "title": ""
    }
   },
   "source": [
    "#### 3. Retrieve the name and product number of the products that have a color of 'black', 'red', or 'white' and a size of 'S' or 'M'\n"
   ]
  },
  {
   "cell_type": "markdown",
   "metadata": {
    "application/vnd.databricks.v1+cell": {
     "cellMetadata": {
      "byteLimit": 2048000,
      "rowLimit": 10000
     },
     "inputWidgets": {},
     "nuid": "31174ab6-690a-42de-becb-5452c1e902bf",
     "showTitle": false,
     "tableResultSettingsMap": {},
     "title": ""
    }
   },
   "source": [
    "##### Using RDD\n"
   ]
  },
  {
   "cell_type": "code",
   "execution_count": 0,
   "metadata": {
    "application/vnd.databricks.v1+cell": {
     "cellMetadata": {
      "byteLimit": 2048000,
      "rowLimit": 10000
     },
     "inputWidgets": {},
     "nuid": "1b99ae62-4b55-4e7f-b27e-80f79909aeca",
     "showTitle": false,
     "tableResultSettingsMap": {},
     "title": ""
    }
   },
   "outputs": [
    {
     "name": "stdout",
     "output_type": "stream",
     "text": [
      "Out[18]: [('Mountain Bike Socks, M', 'SO-B909-M', 'White', 'M'),\n",
      " (\"Men's Sports Shorts, S\", 'SH-M897-S', 'Black', 'S'),\n",
      " (\"Men's Sports Shorts, M\", 'SH-M897-M', 'Black', 'M'),\n",
      " (\"Women's Tights, S\", 'TG-W091-S', 'Black', 'S'),\n",
      " (\"Women's Tights, M\", 'TG-W091-M', 'Black', 'M'),\n",
      " ('Half-Finger Gloves, S', 'GL-H102-S', 'Black', 'S'),\n",
      " ('Half-Finger Gloves, M', 'GL-H102-M', 'Black', 'M'),\n",
      " ('Full-Finger Gloves, S', 'GL-F110-S', 'Black', 'S'),\n",
      " ('Full-Finger Gloves, M', 'GL-F110-M', 'Black', 'M'),\n",
      " (\"Women's Mountain Shorts, S\", 'SH-W890-S', 'Black', 'S'),\n",
      " (\"Women's Mountain Shorts, M\", 'SH-W890-M', 'Black', 'M'),\n",
      " ('Racing Socks, M', 'SO-R809-M', 'White', 'M')]"
     ]
    }
   ],
   "source": [
    "colors = [\"White\",\"Black\",\"Red\"]\n",
    "sizes = [\"S\",\"M\"]\n",
    "\n",
    "(content.filter(lambda line: line.split(\"\\t\")[6] in sizes)\n",
    ".filter(lambda line: line.split(\"\\t\")[3] in colors)\n",
    ".map(lambda line: (line.split(\"\\t\")[1],line.split(\"\\t\")[2], line.split(\"\\t\")[3],line.split(\"\\t\")[6]))\n",
    " .collect()\n",
    ")"
   ]
  },
  {
   "cell_type": "markdown",
   "metadata": {
    "application/vnd.databricks.v1+cell": {
     "cellMetadata": {
      "byteLimit": 2048000,
      "rowLimit": 10000
     },
     "inputWidgets": {},
     "nuid": "895cbde1-b7ef-49fd-9c0f-696369f27128",
     "showTitle": false,
     "tableResultSettingsMap": {},
     "title": ""
    }
   },
   "source": [
    "##### Using Spark Dataframe\n"
   ]
  },
  {
   "cell_type": "code",
   "execution_count": 0,
   "metadata": {
    "application/vnd.databricks.v1+cell": {
     "cellMetadata": {
      "byteLimit": 2048000,
      "rowLimit": 10000
     },
     "inputWidgets": {},
     "nuid": "17a831f7-0cb4-43f2-8bbb-77b1e035ade8",
     "showTitle": false,
     "tableResultSettingsMap": {},
     "title": ""
    }
   },
   "outputs": [
    {
     "name": "stdout",
     "output_type": "stream",
     "text": [
      "+--------------------+-------------+-----+----+\n",
      "|                Name|ProductNumber|Color|Size|\n",
      "+--------------------+-------------+-----+----+\n",
      "|Mountain Bike Soc...|    SO-B909-M|White|   M|\n",
      "|Men's Sports Shor...|    SH-M897-S|Black|   S|\n",
      "|Men's Sports Shor...|    SH-M897-M|Black|   M|\n",
      "|   Women's Tights, S|    TG-W091-S|Black|   S|\n",
      "|   Women's Tights, M|    TG-W091-M|Black|   M|\n",
      "|Half-Finger Glove...|    GL-H102-S|Black|   S|\n",
      "|Half-Finger Glove...|    GL-H102-M|Black|   M|\n",
      "|Full-Finger Glove...|    GL-F110-S|Black|   S|\n",
      "|Full-Finger Glove...|    GL-F110-M|Black|   M|\n",
      "|Women's Mountain ...|    SH-W890-S|Black|   S|\n",
      "|Women's Mountain ...|    SH-W890-M|Black|   M|\n",
      "|     Racing Socks, M|    SO-R809-M|White|   M|\n",
      "+--------------------+-------------+-----+----+\n",
      "\n"
     ]
    }
   ],
   "source": [
    "(df.filter((df.Color.isin(colors)) & (df.Size.isin(sizes)))\n",
    "    .select(df.Name, df.ProductNumber, df.Color, df.Size)).show()"
   ]
  },
  {
   "cell_type": "markdown",
   "metadata": {
    "application/vnd.databricks.v1+cell": {
     "cellMetadata": {
      "byteLimit": 2048000,
      "rowLimit": 10000
     },
     "inputWidgets": {},
     "nuid": "15ba2bdf-70ae-4dcf-b00a-fdd80f352e96",
     "showTitle": false,
     "tableResultSettingsMap": {},
     "title": ""
    }
   },
   "source": [
    "##### Using Spark SQL\n"
   ]
  },
  {
   "cell_type": "code",
   "execution_count": 0,
   "metadata": {
    "application/vnd.databricks.v1+cell": {
     "cellMetadata": {
      "byteLimit": 2048000,
      "rowLimit": 10000
     },
     "inputWidgets": {},
     "nuid": "da3463c2-f9b1-480a-ab44-c69af4275b91",
     "showTitle": false,
     "tableResultSettingsMap": {},
     "title": ""
    }
   },
   "outputs": [
    {
     "name": "stdout",
     "output_type": "stream",
     "text": [
      "+--------------------+-------------+-----+----+\n",
      "|                Name|ProductNumber|Color|Size|\n",
      "+--------------------+-------------+-----+----+\n",
      "|Mountain Bike Soc...|    SO-B909-M|White|   M|\n",
      "|Men's Sports Shor...|    SH-M897-S|Black|   S|\n",
      "|Men's Sports Shor...|    SH-M897-M|Black|   M|\n",
      "|   Women's Tights, S|    TG-W091-S|Black|   S|\n",
      "|   Women's Tights, M|    TG-W091-M|Black|   M|\n",
      "|Half-Finger Glove...|    GL-H102-S|Black|   S|\n",
      "|Half-Finger Glove...|    GL-H102-M|Black|   M|\n",
      "|Full-Finger Glove...|    GL-F110-S|Black|   S|\n",
      "|Full-Finger Glove...|    GL-F110-M|Black|   M|\n",
      "|Women's Mountain ...|    SH-W890-S|Black|   S|\n",
      "|Women's Mountain ...|    SH-W890-M|Black|   M|\n",
      "|     Racing Socks, M|    SO-R809-M|White|   M|\n",
      "+--------------------+-------------+-----+----+\n",
      "\n"
     ]
    }
   ],
   "source": [
    "sqlContext.sql(\"\"\"\n",
    "    SELECT Name, ProductNumber, Color, Size\n",
    "    FROM df_table\n",
    "    WHERE (Color=\"Black\" OR Color=\"White\" OR Color = \"Red\") AND (Size=\"M\" OR SIZE=\"S\")\n",
    "\"\"\").show()"
   ]
  },
  {
   "cell_type": "markdown",
   "metadata": {
    "application/vnd.databricks.v1+cell": {
     "cellMetadata": {
      "byteLimit": 2048000,
      "rowLimit": 10000
     },
     "inputWidgets": {},
     "nuid": "3280d1e9-90e3-4a1b-9ceb-6283c93680a2",
     "showTitle": false,
     "tableResultSettingsMap": {},
     "title": ""
    }
   },
   "source": [
    "#### 4. Retrieve the product name, product number, color and list price of products whose product number begins with 'BK-'. Retrieve only 15 records and Sort the price in descending order\n"
   ]
  },
  {
   "cell_type": "markdown",
   "metadata": {
    "application/vnd.databricks.v1+cell": {
     "cellMetadata": {
      "byteLimit": 2048000,
      "rowLimit": 10000
     },
     "inputWidgets": {},
     "nuid": "9f7884c4-f177-4bc9-ab8a-8512fdbc8c4f",
     "showTitle": false,
     "tableResultSettingsMap": {},
     "title": ""
    }
   },
   "source": [
    "##### Using RDD\n"
   ]
  },
  {
   "cell_type": "code",
   "execution_count": 0,
   "metadata": {
    "application/vnd.databricks.v1+cell": {
     "cellMetadata": {
      "byteLimit": 2048000,
      "rowLimit": 10000
     },
     "inputWidgets": {},
     "nuid": "2f57b2b8-877f-4cd1-9a22-d0f6e450a175",
     "showTitle": false,
     "tableResultSettingsMap": {},
     "title": ""
    }
   },
   "outputs": [
    {
     "name": "stdout",
     "output_type": "stream",
     "text": [
      "Out[21]: [('Road-150 Red, 62', 'BK-R93R-62', 'Red', 3578.27),\n",
      " ('Road-150 Red, 44', 'BK-R93R-44', 'Red', 3578.27),\n",
      " ('Road-150 Red, 48', 'BK-R93R-48', 'Red', 3578.27),\n",
      " ('Road-150 Red, 52', 'BK-R93R-52', 'Red', 3578.27),\n",
      " ('Road-150 Red, 56', 'BK-R93R-56', 'Red', 3578.27),\n",
      " ('Mountain-100 Silver, 38', 'BK-M82S-38', 'Silver', 3399.99),\n",
      " ('Mountain-100 Silver, 42', 'BK-M82S-42', 'Silver', 3399.99),\n",
      " ('Mountain-100 Silver, 44', 'BK-M82S-44', 'Silver', 3399.99),\n",
      " ('Mountain-100 Silver, 48', 'BK-M82S-48', 'Silver', 3399.99),\n",
      " ('Mountain-100 Black, 38', 'BK-M82B-38', 'Black', 3374.99),\n",
      " ('Mountain-100 Black, 42', 'BK-M82B-42', 'Black', 3374.99),\n",
      " ('Mountain-100 Black, 44', 'BK-M82B-44', 'Black', 3374.99),\n",
      " ('Mountain-100 Black, 48', 'BK-M82B-48', 'Black', 3374.99),\n",
      " ('Road-250 Red, 44', 'BK-R89R-44', 'Red', 2443.35),\n",
      " ('Road-250 Red, 48', 'BK-R89R-48', 'Red', 2443.35)]"
     ]
    }
   ],
   "source": [
    "(content.filter(lambda line: \"BK\" in line.split(\"\\t\")[2])\n",
    " .map(lambda line: (line.split(\"\\t\")[1], line.split(\"\\t\")[2], line.split(\"\\t\")[3], float(line.split(\"\\t\")[5])))\n",
    ".takeOrdered(15, lambda x: -x[3]))"
   ]
  },
  {
   "cell_type": "markdown",
   "metadata": {
    "application/vnd.databricks.v1+cell": {
     "cellMetadata": {
      "byteLimit": 2048000,
      "rowLimit": 10000
     },
     "inputWidgets": {},
     "nuid": "7215148c-38cc-4abf-a1a7-2cdaf49bd379",
     "showTitle": false,
     "tableResultSettingsMap": {},
     "title": ""
    }
   },
   "source": [
    "##### Using Spark Dataframe\n"
   ]
  },
  {
   "cell_type": "code",
   "execution_count": 0,
   "metadata": {
    "application/vnd.databricks.v1+cell": {
     "cellMetadata": {
      "byteLimit": 2048000,
      "rowLimit": 10000
     },
     "inputWidgets": {},
     "nuid": "0c33ad13-fd2c-4b55-85cc-091d3a453573",
     "showTitle": false,
     "tableResultSettingsMap": {},
     "title": ""
    }
   },
   "outputs": [
    {
     "name": "stdout",
     "output_type": "stream",
     "text": [
      "+--------------------+-------------+------+---------+\n",
      "|                Name|ProductNumber| Color|ListPrice|\n",
      "+--------------------+-------------+------+---------+\n",
      "|    Road-150 Red, 62|   BK-R93R-62|   Red|  3578.27|\n",
      "|    Road-150 Red, 44|   BK-R93R-44|   Red|  3578.27|\n",
      "|    Road-150 Red, 48|   BK-R93R-48|   Red|  3578.27|\n",
      "|    Road-150 Red, 52|   BK-R93R-52|   Red|  3578.27|\n",
      "|    Road-150 Red, 56|   BK-R93R-56|   Red|  3578.27|\n",
      "|Mountain-100 Silv...|   BK-M82S-44|Silver|  3399.99|\n",
      "|Mountain-100 Silv...|   BK-M82S-48|Silver|  3399.99|\n",
      "|Mountain-100 Silv...|   BK-M82S-38|Silver|  3399.99|\n",
      "|Mountain-100 Silv...|   BK-M82S-42|Silver|  3399.99|\n",
      "|Mountain-100 Blac...|   BK-M82B-38| Black|  3374.99|\n",
      "|Mountain-100 Blac...|   BK-M82B-42| Black|  3374.99|\n",
      "|Mountain-100 Blac...|   BK-M82B-44| Black|  3374.99|\n",
      "|Mountain-100 Blac...|   BK-M82B-48| Black|  3374.99|\n",
      "|    Road-250 Red, 44|   BK-R89R-44|   Red|  2443.35|\n",
      "|    Road-250 Red, 48|   BK-R89R-48|   Red|  2443.35|\n",
      "+--------------------+-------------+------+---------+\n",
      "\n"
     ]
    }
   ],
   "source": [
    "(df.filter(df.ProductNumber.startswith(\"BK-\"))\n",
    "    .select(df.Name, df.ProductNumber, df.Color, df.ListPrice.cast(\"float\"))\n",
    "    .orderBy(df.ListPrice.cast(\"float\").desc())\n",
    "    .limit(15)).show()"
   ]
  },
  {
   "cell_type": "markdown",
   "metadata": {
    "application/vnd.databricks.v1+cell": {
     "cellMetadata": {
      "byteLimit": 2048000,
      "rowLimit": 10000
     },
     "inputWidgets": {},
     "nuid": "6193a402-fe07-4770-92fa-51e26816d3b7",
     "showTitle": false,
     "tableResultSettingsMap": {},
     "title": ""
    }
   },
   "source": [
    "##### Using Spark SQL\n"
   ]
  },
  {
   "cell_type": "code",
   "execution_count": 0,
   "metadata": {
    "application/vnd.databricks.v1+cell": {
     "cellMetadata": {
      "byteLimit": 2048000,
      "rowLimit": 10000
     },
     "inputWidgets": {},
     "nuid": "820deb27-888e-45b3-8ec2-e61a3dc1a14b",
     "showTitle": false,
     "tableResultSettingsMap": {},
     "title": ""
    }
   },
   "outputs": [
    {
     "name": "stdout",
     "output_type": "stream",
     "text": [
      "+--------------------+-------------+------+---------+\n",
      "|                Name|ProductNumber| Color|ListPrice|\n",
      "+--------------------+-------------+------+---------+\n",
      "|    Road-150 Red, 62|   BK-R93R-62|   Red|  3578.27|\n",
      "|    Road-150 Red, 44|   BK-R93R-44|   Red|  3578.27|\n",
      "|    Road-150 Red, 48|   BK-R93R-48|   Red|  3578.27|\n",
      "|    Road-150 Red, 52|   BK-R93R-52|   Red|  3578.27|\n",
      "|    Road-150 Red, 56|   BK-R93R-56|   Red|  3578.27|\n",
      "|Mountain-100 Silv...|   BK-M82S-44|Silver|  3399.99|\n",
      "|Mountain-100 Silv...|   BK-M82S-48|Silver|  3399.99|\n",
      "|Mountain-100 Silv...|   BK-M82S-38|Silver|  3399.99|\n",
      "|Mountain-100 Silv...|   BK-M82S-42|Silver|  3399.99|\n",
      "|Mountain-100 Blac...|   BK-M82B-38| Black|  3374.99|\n",
      "|Mountain-100 Blac...|   BK-M82B-42| Black|  3374.99|\n",
      "|Mountain-100 Blac...|   BK-M82B-44| Black|  3374.99|\n",
      "|Mountain-100 Blac...|   BK-M82B-48| Black|  3374.99|\n",
      "|    Road-250 Red, 44|   BK-R89R-44|   Red|  2443.35|\n",
      "|    Road-250 Red, 48|   BK-R89R-48|   Red|  2443.35|\n",
      "+--------------------+-------------+------+---------+\n",
      "\n"
     ]
    }
   ],
   "source": [
    "sqlContext.sql(\"\"\"\n",
    "    SELECT Name, ProductNumber, Color, cast(ListPrice as float)\n",
    "    FROM df_table\n",
    "    WHERE ProductNumber LIKE 'BK-%'\n",
    "    ORDER BY ListPrice DESC\n",
    "    LIMIT 15\n",
    "\"\"\").show()"
   ]
  },
  {
   "cell_type": "markdown",
   "metadata": {
    "application/vnd.databricks.v1+cell": {
     "cellMetadata": {
      "byteLimit": 2048000,
      "rowLimit": 10000
     },
     "inputWidgets": {},
     "nuid": "cec197c9-eb1f-4b42-976d-45c12a0c2cc3",
     "showTitle": false,
     "tableResultSettingsMap": {},
     "title": ""
    }
   },
   "source": [
    "#### 5. Visualize Average List Price per Color and Average List Price per Size. Discuss/Explain your results.\n"
   ]
  },
  {
   "cell_type": "code",
   "execution_count": 0,
   "metadata": {
    "application/vnd.databricks.v1+cell": {
     "cellMetadata": {
      "byteLimit": 2048000,
      "rowLimit": 10000
     },
     "inputWidgets": {},
     "nuid": "7214bde0-02aa-4fc6-b124-06f5a22bc5e5",
     "showTitle": false,
     "tableResultSettingsMap": {},
     "title": ""
    }
   },
   "outputs": [
    {
     "data": {
      "application/vnd.databricks.v1+bamboolib_hint": "{\"pd.DataFrames\": [], \"version\": \"0.0.1\"}",
      "text/plain": []
     },
     "metadata": {},
     "output_type": "display_data"
    }
   ],
   "source": [
    "import pandas as pd\n",
    "import matplotlib\n",
    "import matplotlib.pyplot as plt\n",
    "from pyspark.sql import functions as F\n",
    "%matplotlib inline"
   ]
  },
  {
   "cell_type": "code",
   "execution_count": 0,
   "metadata": {
    "application/vnd.databricks.v1+cell": {
     "cellMetadata": {
      "byteLimit": 2048000,
      "rowLimit": 10000
     },
     "inputWidgets": {},
     "nuid": "ad7e9cf5-f424-4b09-af34-df53c021f43a",
     "showTitle": false,
     "tableResultSettingsMap": {},
     "title": ""
    }
   },
   "outputs": [],
   "source": [
    "df2 = df.select(df.Name, df.Color, df.Size, df.ListPrice.cast(\"float\"))\n",
    "\n",
    "# Calculate Average List Price per Color\n",
    "avg_price_color_df = (df2.groupBy(\"Color\")\n",
    "                        .avg(\"ListPrice\")\n",
    "                        .withColumnRenamed(\"avg(ListPrice)\", \"AverageListPrice\")\n",
    "                        .orderBy(\"AverageListPrice\", ascending=False))\n",
    "\n",
    "avg_price_color_pd = avg_price_color_df.toPandas()\n",
    "\n",
    "# Calculate Average List Price per Size\n",
    "avg_price_size_df = (df2.groupBy(\"Size\")\n",
    "                       .avg(\"ListPrice\")\n",
    "                       .withColumnRenamed(\"avg(ListPrice)\", \"AverageListPrice\")\n",
    "                       .orderBy(\"AverageListPrice\", ascending=False))\n",
    "\n",
    "avg_price_size_pd = avg_price_size_df.toPandas()\n"
   ]
  },
  {
   "cell_type": "code",
   "execution_count": 0,
   "metadata": {
    "application/vnd.databricks.v1+cell": {
     "cellMetadata": {
      "byteLimit": 2048000,
      "rowLimit": 10000
     },
     "inputWidgets": {},
     "nuid": "0e0478fd-866b-4e49-b88d-485a6c066323",
     "showTitle": false,
     "tableResultSettingsMap": {},
     "title": ""
    }
   },
   "outputs": [
    {
     "data": {
      "image/png": "[encoded data removed]"
     },
     "metadata": {
      "application/vnd.databricks.v1+output": {
       "addedWidgets": {},
       "arguments": {},
       "data": "data:image/png;base64,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\n",
       "datasetInfos": [],
       "metadata": {},
       "removedWidgets": [],
       "type": "image"
      }
     },
     "output_type": "display_data"
    }
   ],
   "source": [
    "# Plot Average List Price per Color\n",
    "plt.figure(figsize=(10, 6))\n",
    "plt.bar(avg_price_color_pd[\"Color\"], avg_price_color_pd[\"AverageListPrice\"])\n",
    "plt.title(\"Average List Price per Color\")\n",
    "plt.xlabel(\"Color\")\n",
    "plt.ylabel(\"Average List Price\")\n",
    "plt.xticks(rotation=45)\n",
    "plt.tight_layout()\n",
    "plt.show()"
   ]
  },
  {
   "cell_type": "code",
   "execution_count": 0,
   "metadata": {
    "application/vnd.databricks.v1+cell": {
     "cellMetadata": {
      "byteLimit": 2048000,
      "rowLimit": 10000
     },
     "inputWidgets": {},
     "nuid": "04e85fdf-c264-47f8-8b7c-817e19d62576",
     "showTitle": false,
     "tableResultSettingsMap": {},
     "title": ""
    }
   },
   "outputs": [
    {
     "data": {
      "image/png": "[encoded data removed]"
     },
     "metadata": {
      "application/vnd.databricks.v1+output": {
       "addedWidgets": {},
       "arguments": {},
       "data": "data:image/png;base64,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\n",
       "datasetInfos": [],
       "metadata": {},
       "removedWidgets": [],
       "type": "image"
      }
     },
     "output_type": "display_data"
    }
   ],
   "source": [
    "# Plot Average List Price per Size\n",
    "plt.figure(figsize=(10, 6))\n",
    "plt.bar(avg_price_size_pd[\"Size\"], avg_price_size_pd[\"AverageListPrice\"])\n",
    "plt.title(\"Average List Price per Size\")\n",
    "plt.xlabel(\"Size\")\n",
    "plt.ylabel(\"Average List Price\")\n",
    "plt.xticks(rotation=45)\n",
    "plt.tight_layout()\n",
    "plt.show()\n"
   ]
  },
  {
   "cell_type": "markdown",
   "metadata": {
    "application/vnd.databricks.v1+cell": {
     "cellMetadata": {
      "byteLimit": 2048000,
      "rowLimit": 10000
     },
     "inputWidgets": {},
     "nuid": "110f0965-5381-4a84-ace7-7c9cf261f09d",
     "showTitle": false,
     "tableResultSettingsMap": {},
     "title": ""
    }
   },
   "source": [
    "**Explanation:**\n",
    "\n",
    "**Chart 1: Average List Price by Color**\n",
    "\n",
    "The first chart shows how the average list price varies across different colors. The results indicate that certain colors, likely associated with premium or specialized products, command higher average prices. For example, a top-priced color (e.g., red or silver) could represent rare or niche products with higher production costs or exclusivity. On the other hand, more common colors with widespread applicability (e.g., black or white) may have moderate prices, reflecting their availability and popularity in standard product lines.\n",
    "\n",
    "**Chart 2: Average List Price by Size**\n",
    "\n",
    "The second chart reveals the relationship between average list prices and product sizes. Standard sizes such as \"M\" and \"L\" may exhibit moderate prices due to high demand and economies of scale in production. Smaller or specialized sizes, such as \"XS\" or \"XL,\" often have higher average prices, possibly due to limited production runs or additional material requirements. This distribution highlights the influence of size on production costs and consumer demand, which businesses can use for pricing and inventory strategies.\n"
   ]
  },
  {
   "cell_type": "markdown",
   "metadata": {
    "application/vnd.databricks.v1+cell": {
     "cellMetadata": {
      "byteLimit": 2048000,
      "rowLimit": 10000
     },
     "inputWidgets": {},
     "nuid": "3c3731a0-f63d-46fe-87de-416efca7b8ae",
     "showTitle": false,
     "tableResultSettingsMap": {},
     "title": ""
    }
   },
   "source": [
    "#### 6. Visualize Total Count per Size. Discuss/Explain your results.\n"
   ]
  },
  {
   "cell_type": "code",
   "execution_count": 0,
   "metadata": {
    "application/vnd.databricks.v1+cell": {
     "cellMetadata": {
      "byteLimit": 2048000,
      "rowLimit": 10000
     },
     "inputWidgets": {},
     "nuid": "7d9e8ea0-b441-41c5-be1e-7b93801de3f5",
     "showTitle": false,
     "tableResultSettingsMap": {},
     "title": ""
    }
   },
   "outputs": [],
   "source": [
    "# Calculate total count per Size\n",
    "count_per_size_df = (df.groupBy(\"Size\")\n",
    "                       .count()\n",
    "                       .withColumnRenamed(\"count\", \"TotalCount\")\n",
    "                       .orderBy(\"TotalCount\", ascending=False))\n",
    "\n",
    "count_per_size_pd = count_per_size_df.toPandas()\n"
   ]
  },
  {
   "cell_type": "code",
   "execution_count": 0,
   "metadata": {
    "application/vnd.databricks.v1+cell": {
     "cellMetadata": {
      "byteLimit": 2048000,
      "rowLimit": 10000
     },
     "inputWidgets": {},
     "nuid": "0cb8126e-829c-4318-b65b-a5262e765203",
     "showTitle": false,
     "tableResultSettingsMap": {},
     "title": ""
    }
   },
   "outputs": [
    {
     "data": {
      "image/png": "[encoded data removed]"
     },
     "metadata": {
      "application/vnd.databricks.v1+output": {
       "addedWidgets": {},
       "arguments": {},
       "data": "data:image/png;base64,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\n",
       "datasetInfos": [],
       "metadata": {},
       "removedWidgets": [],
       "type": "image"
      }
     },
     "output_type": "display_data"
    }
   ],
   "source": [
    "# Plot Total Count per Size\n",
    "plt.figure(figsize=(10, 6))\n",
    "plt.bar(count_per_size_pd[\"Size\"], count_per_size_pd[\"TotalCount\"])\n",
    "plt.title(\"Total Count per Size\")\n",
    "plt.xlabel(\"Size\")\n",
    "plt.ylabel(\"Total Count\")\n",
    "plt.xticks(rotation=45)\n",
    "plt.tight_layout()\n",
    "plt.show()\n"
   ]
  },
  {
   "cell_type": "markdown",
   "metadata": {
    "application/vnd.databricks.v1+cell": {
     "cellMetadata": {
      "byteLimit": 2048000,
      "rowLimit": 10000
     },
     "inputWidgets": {},
     "nuid": "c75e489b-74ca-42a0-b3a4-80b0f600b2f4",
     "showTitle": false,
     "tableResultSettingsMap": {},
     "title": ""
    }
   },
   "source": [
    "**Explanation:**\n",
    "\n",
    "This chart shows that the highest count is of size NULL. Firstly, this indicates that the data collection can be improved and maybe that this data requires cleaning before visualization. Other than Null values, we can notices that 44 and 48 are the frontrunners in terms of numerical sizes. This shows that these sizes must be the most in demand hence they are most in number here. Among the categorical sizes, M and L are tied for the highest. Some of the lowest counts are of the sizes that are extreme such as XL or 70, which makes sense since these sizes are not that common in general.\n"
   ]
  },
  {
   "cell_type": "markdown",
   "metadata": {
    "application/vnd.databricks.v1+cell": {
     "cellMetadata": {
      "byteLimit": 2048000,
      "rowLimit": 10000
     },
     "inputWidgets": {},
     "nuid": "65b7c02f-106d-4dc6-a681-2708a2b3de5a",
     "showTitle": false,
     "tableResultSettingsMap": {},
     "title": ""
    }
   },
   "source": [
    "# Using Machine Learning Library (For Practice)\n"
   ]
  },
  {
   "cell_type": "code",
   "execution_count": 0,
   "metadata": {
    "application/vnd.databricks.v1+cell": {
     "cellMetadata": {
      "byteLimit": 2048000,
      "rowLimit": 10000
     },
     "inputWidgets": {},
     "nuid": "d7350414-127d-4e37-8aa0-cdc43f8f0bd4",
     "showTitle": false,
     "tableResultSettingsMap": {},
     "title": ""
    }
   },
   "outputs": [
    {
     "name": "stdout",
     "output_type": "stream",
     "text": [
      "+-------+----+---------+\n",
      "|Weight |Size|ListPrice|\n",
      "+-------+----+---------+\n",
      "|1016.04|58.0|1431.5   |\n",
      "|1016.04|58.0|1431.5   |\n",
      "|null   |null|34.99    |\n",
      "|null   |null|34.99    |\n",
      "|null   |null|9.5      |\n",
      "+-------+----+---------+\n",
      "only showing top 5 rows\n",
      "\n"
     ]
    }
   ],
   "source": [
    "dfall = df.select(df.Weight.cast(\"float\"), df.Size.cast(\"float\"), df.ListPrice.cast(\"float\"))\n",
    "dfall.show(5, truncate=False)"
   ]
  },
  {
   "cell_type": "code",
   "execution_count": 0,
   "metadata": {
    "application/vnd.databricks.v1+cell": {
     "cellMetadata": {
      "byteLimit": 2048000,
      "rowLimit": 10000
     },
     "inputWidgets": {},
     "nuid": "c11425a9-aacd-43d0-882c-eb0a0002c6cf",
     "showTitle": false,
     "tableResultSettingsMap": {},
     "title": ""
    }
   },
   "outputs": [],
   "source": [
    "dfall = dfall.na.drop(\"any\")"
   ]
  },
  {
   "cell_type": "code",
   "execution_count": 0,
   "metadata": {
    "application/vnd.databricks.v1+cell": {
     "cellMetadata": {
      "byteLimit": 2048000,
      "rowLimit": 10000
     },
     "inputWidgets": {},
     "nuid": "653da381-78ec-470d-8994-825d252cea19",
     "showTitle": false,
     "tableResultSettingsMap": {},
     "title": ""
    }
   },
   "outputs": [],
   "source": [
    "feature_columns = dfall.columns[:-1] # here we omit the final column for prediction\n",
    "from pyspark.ml.feature import VectorAssembler\n",
    "assembler = VectorAssembler(inputCols=feature_columns,outputCol=\"features\")"
   ]
  },
  {
   "cell_type": "code",
   "execution_count": 0,
   "metadata": {
    "application/vnd.databricks.v1+cell": {
     "cellMetadata": {
      "byteLimit": 2048000,
      "rowLimit": 10000
     },
     "inputWidgets": {},
     "nuid": "e2c5c2ab-8358-49e4-bd21-dc252e5848a5",
     "showTitle": false,
     "tableResultSettingsMap": {},
     "title": ""
    }
   },
   "outputs": [],
   "source": [
    "data_2 = assembler.transform(dfall)"
   ]
  },
  {
   "cell_type": "code",
   "execution_count": 0,
   "metadata": {
    "application/vnd.databricks.v1+cell": {
     "cellMetadata": {
      "byteLimit": 2048000,
      "rowLimit": 10000
     },
     "inputWidgets": {},
     "nuid": "05b1b005-27ba-4f4d-bfac-473869a3aee2",
     "showTitle": false,
     "tableResultSettingsMap": {},
     "title": ""
    }
   },
   "outputs": [
    {
     "name": "stdout",
     "output_type": "stream",
     "text": [
      "+-------+----+---------+--------------------+\n",
      "| Weight|Size|ListPrice|            features|\n",
      "+-------+----+---------+--------------------+\n",
      "|1016.04|58.0|   1431.5|[1016.03997802734...|\n",
      "|1016.04|58.0|   1431.5|[1016.03997802734...|\n",
      "|1043.26|62.0|   1431.5|[1043.26000976562...|\n",
      "| 961.61|44.0|   1431.5|[961.609985351562...|\n",
      "| 979.75|48.0|   1431.5|       [979.75,48.0]|\n",
      "|  997.9|52.0|   1431.5|[997.900024414062...|\n",
      "|1016.04|56.0|   1431.5|[1016.03997802734...|\n",
      "|1115.83|58.0|   337.22|[1115.82995605468...|\n",
      "| 1124.9|60.0|   337.22|[1124.90002441406...|\n",
      "|1133.98|62.0|   337.22|[1133.97998046875...|\n",
      "|1052.33|44.0|   337.22|[1052.32995605468...|\n",
      "|1070.47|48.0|   337.22|[1070.46997070312...|\n",
      "|1088.62|52.0|   337.22|[1088.61999511718...|\n",
      "|1115.83|58.0|   337.22|[1115.82995605468...|\n",
      "| 1124.9|60.0|   337.22|[1124.90002441406...|\n",
      "|1133.98|62.0|   337.22|[1133.97998046875...|\n",
      "|1006.97|44.0|   594.83|[1006.96997070312...|\n",
      "|1025.11|48.0|   594.83|[1025.10998535156...|\n",
      "|1043.26|52.0|   594.83|[1043.26000976562...|\n",
      "|1070.47|58.0|   594.83|[1070.46997070312...|\n",
      "+-------+----+---------+--------------------+\n",
      "only showing top 20 rows\n",
      "\n"
     ]
    }
   ],
   "source": [
    "data_2.show()"
   ]
  },
  {
   "cell_type": "code",
   "execution_count": 0,
   "metadata": {
    "application/vnd.databricks.v1+cell": {
     "cellMetadata": {
      "byteLimit": 2048000,
      "rowLimit": 10000
     },
     "inputWidgets": {},
     "nuid": "ceb6abc9-573b-4ae2-8e03-21a79639805a",
     "showTitle": false,
     "tableResultSettingsMap": {},
     "title": ""
    }
   },
   "outputs": [],
   "source": [
    "from pyspark.ml.regression import LinearRegression"
   ]
  },
  {
   "cell_type": "code",
   "execution_count": 0,
   "metadata": {
    "application/vnd.databricks.v1+cell": {
     "cellMetadata": {
      "byteLimit": 2048000,
      "rowLimit": 10000
     },
     "inputWidgets": {},
     "nuid": "950d1b20-4331-4510-b9cd-db2819cb3474",
     "showTitle": false,
     "tableResultSettingsMap": {},
     "title": ""
    }
   },
   "outputs": [],
   "source": [
    "algo = LinearRegression(featuresCol=\"features\", labelCol=\"ListPrice\")"
   ]
  },
  {
   "cell_type": "code",
   "execution_count": 0,
   "metadata": {
    "application/vnd.databricks.v1+cell": {
     "cellMetadata": {
      "byteLimit": 2048000,
      "rowLimit": 10000
     },
     "inputWidgets": {},
     "nuid": "bb9182a8-78da-4250-8303-26a222676e1d",
     "showTitle": false,
     "tableResultSettingsMap": {},
     "title": ""
    }
   },
   "outputs": [],
   "source": [
    "model = algo.fit(data_2)"
   ]
  },
  {
   "cell_type": "code",
   "execution_count": 0,
   "metadata": {
    "application/vnd.databricks.v1+cell": {
     "cellMetadata": {
      "byteLimit": 2048000,
      "rowLimit": 10000
     },
     "inputWidgets": {},
     "nuid": "373a7a87-ed11-4d0f-b98d-98ce2889907c",
     "showTitle": false,
     "tableResultSettingsMap": {},
     "title": ""
    }
   },
   "outputs": [],
   "source": [
    "evaluation_summary = model.evaluate(data_2)"
   ]
  },
  {
   "cell_type": "code",
   "execution_count": 0,
   "metadata": {
    "application/vnd.databricks.v1+cell": {
     "cellMetadata": {
      "byteLimit": 2048000,
      "rowLimit": 10000
     },
     "inputWidgets": {},
     "nuid": "1548b3b3-f7f4-48f6-ad73-2b070f7595da",
     "showTitle": false,
     "tableResultSettingsMap": {},
     "title": ""
    }
   },
   "outputs": [
    {
     "name": "stdout",
     "output_type": "stream",
     "text": [
      "Out[39]: 862.8415344138203"
     ]
    }
   ],
   "source": [
    "evaluation_summary.rootMeanSquaredError"
   ]
  },
  {
   "cell_type": "code",
   "execution_count": 0,
   "metadata": {
    "application/vnd.databricks.v1+cell": {
     "cellMetadata": {
      "byteLimit": 2048000,
      "rowLimit": 10000
     },
     "inputWidgets": {},
     "nuid": "5bb20dc4-259c-4de1-bb3c-ea477a692d17",
     "showTitle": false,
     "tableResultSettingsMap": {},
     "title": ""
    }
   },
   "outputs": [
    {
     "name": "stdout",
     "output_type": "stream",
     "text": [
      "Out[40]: 0.10019389704278814"
     ]
    }
   ],
   "source": [
    "evaluation_summary.r2"
   ]
  }
 ],
 "metadata": {
  "application/vnd.databricks.v1+notebook": {
   "dashboards": [],
   "environmentMetadata": null,
   "language": "python",
   "notebookMetadata": {
    "pythonIndentUnit": 2
   },
   "notebookName": "HW14-Spark",
   "widgets": {}
  },
  "kernelspec": {
   "display_name": "Python 2",
   "language": "python",
   "name": "python2"
  },
  "language_info": {
   "codemirror_mode": {
    "name": "ipython",
    "version": 2
   },
   "file_extension": ".py",
   "mimetype": "text/x-python",
   "name": "python",
   "nbconvert_exporter": "python",
   "pygments_lexer": "ipython2",
   "version": "2.7.12"
  }
 },
 "nbformat": 4,
 "nbformat_minor": 0
}
