{
 "cells": [
  {
   "cell_type": "markdown",
   "metadata": {},
   "source": [
    "# HW3: Statistical Inference\n",
    "\n",
    "## Syed Nisar Hussian\n",
    "\n",
    "### sh07216@st.habib.edu.pk\n"
   ]
  },
  {
   "cell_type": "code",
   "execution_count": 72,
   "metadata": {},
   "outputs": [],
   "source": [
    "import pandas as pd\n",
    "import numpy as np\n",
    "import seaborn as sns\n",
    "import matplotlib.pyplot as plt\n",
    "from scipy import stats"
   ]
  },
  {
   "cell_type": "code",
   "execution_count": 73,
   "metadata": {},
   "outputs": [
    {
     "data": {
      "text/html": [
       "<div>\n",
       "<style scoped>\n",
       "    .dataframe tbody tr th:only-of-type {\n",
       "        vertical-align: middle;\n",
       "    }\n",
       "\n",
       "    .dataframe tbody tr th {\n",
       "        vertical-align: top;\n",
       "    }\n",
       "\n",
       "    .dataframe thead th {\n",
       "        text-align: right;\n",
       "    }\n",
       "</style>\n",
       "<table border=\"1\" class=\"dataframe\">\n",
       "  <thead>\n",
       "    <tr style=\"text-align: right;\">\n",
       "      <th></th>\n",
       "      <th>id</th>\n",
       "      <th>first_name</th>\n",
       "      <th>last_name</th>\n",
       "      <th>email</th>\n",
       "      <th>gender</th>\n",
       "      <th>part_time_job</th>\n",
       "      <th>absence_days</th>\n",
       "      <th>extracurricular_activities</th>\n",
       "      <th>weekly_self_study_hours</th>\n",
       "      <th>career_aspiration</th>\n",
       "      <th>math_score</th>\n",
       "      <th>history_score</th>\n",
       "      <th>physics_score</th>\n",
       "      <th>chemistry_score</th>\n",
       "      <th>biology_score</th>\n",
       "      <th>english_score</th>\n",
       "      <th>geography_score</th>\n",
       "    </tr>\n",
       "  </thead>\n",
       "  <tbody>\n",
       "    <tr>\n",
       "      <th>0</th>\n",
       "      <td>1</td>\n",
       "      <td>Paul</td>\n",
       "      <td>Casey</td>\n",
       "      <td>paul.casey.1@gslingacademy.com</td>\n",
       "      <td>male</td>\n",
       "      <td>False</td>\n",
       "      <td>3</td>\n",
       "      <td>False</td>\n",
       "      <td>27</td>\n",
       "      <td>Lawyer</td>\n",
       "      <td>73</td>\n",
       "      <td>81</td>\n",
       "      <td>93</td>\n",
       "      <td>97</td>\n",
       "      <td>63</td>\n",
       "      <td>80</td>\n",
       "      <td>87</td>\n",
       "    </tr>\n",
       "    <tr>\n",
       "      <th>1</th>\n",
       "      <td>2</td>\n",
       "      <td>Danielle</td>\n",
       "      <td>Sandoval</td>\n",
       "      <td>danielle.sandoval.2@gslingacademy.com</td>\n",
       "      <td>female</td>\n",
       "      <td>False</td>\n",
       "      <td>2</td>\n",
       "      <td>False</td>\n",
       "      <td>47</td>\n",
       "      <td>Doctor</td>\n",
       "      <td>90</td>\n",
       "      <td>86</td>\n",
       "      <td>96</td>\n",
       "      <td>100</td>\n",
       "      <td>90</td>\n",
       "      <td>88</td>\n",
       "      <td>90</td>\n",
       "    </tr>\n",
       "    <tr>\n",
       "      <th>2</th>\n",
       "      <td>3</td>\n",
       "      <td>Tina</td>\n",
       "      <td>Andrews</td>\n",
       "      <td>tina.andrews.3@gslingacademy.com</td>\n",
       "      <td>female</td>\n",
       "      <td>False</td>\n",
       "      <td>9</td>\n",
       "      <td>True</td>\n",
       "      <td>13</td>\n",
       "      <td>Government Officer</td>\n",
       "      <td>81</td>\n",
       "      <td>97</td>\n",
       "      <td>95</td>\n",
       "      <td>96</td>\n",
       "      <td>65</td>\n",
       "      <td>77</td>\n",
       "      <td>94</td>\n",
       "    </tr>\n",
       "    <tr>\n",
       "      <th>3</th>\n",
       "      <td>4</td>\n",
       "      <td>Tara</td>\n",
       "      <td>Clark</td>\n",
       "      <td>tara.clark.4@gslingacademy.com</td>\n",
       "      <td>female</td>\n",
       "      <td>False</td>\n",
       "      <td>5</td>\n",
       "      <td>False</td>\n",
       "      <td>3</td>\n",
       "      <td>Artist</td>\n",
       "      <td>71</td>\n",
       "      <td>74</td>\n",
       "      <td>88</td>\n",
       "      <td>80</td>\n",
       "      <td>89</td>\n",
       "      <td>63</td>\n",
       "      <td>86</td>\n",
       "    </tr>\n",
       "    <tr>\n",
       "      <th>4</th>\n",
       "      <td>5</td>\n",
       "      <td>Anthony</td>\n",
       "      <td>Campos</td>\n",
       "      <td>anthony.campos.5@gslingacademy.com</td>\n",
       "      <td>male</td>\n",
       "      <td>False</td>\n",
       "      <td>5</td>\n",
       "      <td>False</td>\n",
       "      <td>10</td>\n",
       "      <td>Unknown</td>\n",
       "      <td>84</td>\n",
       "      <td>77</td>\n",
       "      <td>65</td>\n",
       "      <td>65</td>\n",
       "      <td>80</td>\n",
       "      <td>74</td>\n",
       "      <td>76</td>\n",
       "    </tr>\n",
       "  </tbody>\n",
       "</table>\n",
       "</div>"
      ],
      "text/plain": [
       "   id first_name last_name                                  email  gender  \\\n",
       "0   1       Paul     Casey         paul.casey.1@gslingacademy.com    male   \n",
       "1   2   Danielle  Sandoval  danielle.sandoval.2@gslingacademy.com  female   \n",
       "2   3       Tina   Andrews       tina.andrews.3@gslingacademy.com  female   \n",
       "3   4       Tara     Clark         tara.clark.4@gslingacademy.com  female   \n",
       "4   5    Anthony    Campos     anthony.campos.5@gslingacademy.com    male   \n",
       "\n",
       "   part_time_job  absence_days  extracurricular_activities  \\\n",
       "0          False             3                       False   \n",
       "1          False             2                       False   \n",
       "2          False             9                        True   \n",
       "3          False             5                       False   \n",
       "4          False             5                       False   \n",
       "\n",
       "   weekly_self_study_hours   career_aspiration  math_score  history_score  \\\n",
       "0                       27              Lawyer          73             81   \n",
       "1                       47              Doctor          90             86   \n",
       "2                       13  Government Officer          81             97   \n",
       "3                        3              Artist          71             74   \n",
       "4                       10             Unknown          84             77   \n",
       "\n",
       "   physics_score  chemistry_score  biology_score  english_score  \\\n",
       "0             93               97             63             80   \n",
       "1             96              100             90             88   \n",
       "2             95               96             65             77   \n",
       "3             88               80             89             63   \n",
       "4             65               65             80             74   \n",
       "\n",
       "   geography_score  \n",
       "0               87  \n",
       "1               90  \n",
       "2               94  \n",
       "3               86  \n",
       "4               76  "
      ]
     },
     "execution_count": 73,
     "metadata": {},
     "output_type": "execute_result"
    }
   ],
   "source": [
    "df = pd.read_csv(\"student-scores.csv\")\n",
    "df.head()"
   ]
  },
  {
   "cell_type": "code",
   "execution_count": 74,
   "metadata": {},
   "outputs": [
    {
     "name": "stdout",
     "output_type": "stream",
     "text": [
      "<class 'pandas.core.frame.DataFrame'>\n",
      "RangeIndex: 2000 entries, 0 to 1999\n",
      "Data columns (total 17 columns):\n",
      " #   Column                      Non-Null Count  Dtype \n",
      "---  ------                      --------------  ----- \n",
      " 0   id                          2000 non-null   int64 \n",
      " 1   first_name                  2000 non-null   object\n",
      " 2   last_name                   2000 non-null   object\n",
      " 3   email                       2000 non-null   object\n",
      " 4   gender                      2000 non-null   object\n",
      " 5   part_time_job               2000 non-null   bool  \n",
      " 6   absence_days                2000 non-null   int64 \n",
      " 7   extracurricular_activities  2000 non-null   bool  \n",
      " 8   weekly_self_study_hours     2000 non-null   int64 \n",
      " 9   career_aspiration           2000 non-null   object\n",
      " 10  math_score                  2000 non-null   int64 \n",
      " 11  history_score               2000 non-null   int64 \n",
      " 12  physics_score               2000 non-null   int64 \n",
      " 13  chemistry_score             2000 non-null   int64 \n",
      " 14  biology_score               2000 non-null   int64 \n",
      " 15  english_score               2000 non-null   int64 \n",
      " 16  geography_score             2000 non-null   int64 \n",
      "dtypes: bool(2), int64(10), object(5)\n",
      "memory usage: 238.4+ KB\n"
     ]
    }
   ],
   "source": [
    "df.info()"
   ]
  },
  {
   "cell_type": "markdown",
   "metadata": {},
   "source": [
    "### Hypothesis Testing\n"
   ]
  },
  {
   "cell_type": "markdown",
   "metadata": {},
   "source": [
    "**1. If math_score of males is greater than females.**\n",
    "\n",
    "H<sub>0</sub>: Math score of males is less than or equal to that of females  \n",
    "H<sub>a</sub>: Math score of males is greater than that of females\n"
   ]
  },
  {
   "cell_type": "code",
   "execution_count": 75,
   "metadata": {},
   "outputs": [
    {
     "data": {
      "text/plain": [
       "0       73\n",
       "4       84\n",
       "6       99\n",
       "7       95\n",
       "8       94\n",
       "        ..\n",
       "1992    79\n",
       "1993    92\n",
       "1994    76\n",
       "1995    83\n",
       "1996    89\n",
       "Name: math_score, Length: 998, dtype: int64"
      ]
     },
     "metadata": {},
     "output_type": "display_data"
    },
    {
     "data": {
      "text/plain": [
       "1       90\n",
       "2       81\n",
       "3       71\n",
       "5       93\n",
       "9       98\n",
       "        ..\n",
       "1987    97\n",
       "1991    88\n",
       "1997    97\n",
       "1998    51\n",
       "1999    82\n",
       "Name: math_score, Length: 1002, dtype: int64"
      ]
     },
     "metadata": {},
     "output_type": "display_data"
    },
    {
     "data": {
      "text/plain": [
       "TtestResult(statistic=2.2371559026936256, pvalue=0.012693020299630226, df=1998.0)"
      ]
     },
     "execution_count": 75,
     "metadata": {},
     "output_type": "execute_result"
    }
   ],
   "source": [
    "male_math_scores = df[df['gender'] == 'male']['math_score']\n",
    "display(male_math_scores)\n",
    "female_math_scores = df[df['gender'] == 'female']['math_score']\n",
    "display(female_math_scores)\n",
    "\n",
    "stats.ttest_ind(male_math_scores, female_math_scores, alternative='greater')"
   ]
  },
  {
   "cell_type": "markdown",
   "metadata": {},
   "source": [
    "**Conclusion:** Since p-value < 0.05, we reject the null hypothesis H<sub>0</sub> and conclude that the math score of males is greater than that of females.\n"
   ]
  },
  {
   "cell_type": "markdown",
   "metadata": {},
   "source": [
    "**Interpretation:** This result suggests a potential gender gap in math performance, where male students outperform female students in math. This could be due to factors such as teaching methods, learning environments, or societal expectations that may influence the math performance of different genders.\n"
   ]
  },
  {
   "cell_type": "markdown",
   "metadata": {},
   "source": [
    "**2. If math_score of Non Doctors is greater than Doctors.**\n",
    "\n",
    "H<sub>0</sub>: Math scores of non-Doctors are lesser than or equal to that of Doctors.  \n",
    "H<sub>a</sub>: Math scores of non-Doctors are greater than that of Doctors.\n"
   ]
  },
  {
   "cell_type": "code",
   "execution_count": 76,
   "metadata": {},
   "outputs": [
    {
     "data": {
      "text/plain": [
       "1        90\n",
       "14       96\n",
       "18       92\n",
       "25       92\n",
       "121      98\n",
       "       ... \n",
       "1956    100\n",
       "1962     88\n",
       "1963     86\n",
       "1986     89\n",
       "1993     92\n",
       "Name: math_score, Length: 119, dtype: int64"
      ]
     },
     "metadata": {},
     "output_type": "display_data"
    },
    {
     "data": {
      "text/plain": [
       "0       73\n",
       "2       81\n",
       "3       71\n",
       "4       84\n",
       "5       93\n",
       "        ..\n",
       "1995    83\n",
       "1996    89\n",
       "1997    97\n",
       "1998    51\n",
       "1999    82\n",
       "Name: math_score, Length: 1881, dtype: int64"
      ]
     },
     "metadata": {},
     "output_type": "display_data"
    },
    {
     "data": {
      "text/plain": [
       "TtestResult(statistic=-7.389083205876682, pvalue=0.999999999999892, df=1998.0)"
      ]
     },
     "execution_count": 76,
     "metadata": {},
     "output_type": "execute_result"
    }
   ],
   "source": [
    "doctors_math_scores = df[df['career_aspiration'] == 'Doctor']['math_score']\n",
    "display(doctors_math_scores)\n",
    "non_doctors_math_scores = df[df['career_aspiration'] != 'Doctor']['math_score']\n",
    "display(non_doctors_math_scores)\n",
    "\n",
    "stats.ttest_ind(non_doctors_math_scores, doctors_math_scores, alternative='greater')"
   ]
  },
  {
   "cell_type": "markdown",
   "metadata": {},
   "source": [
    "**Conclusion:** Since p-value ≥ 0.05, we fail to reject the null hypothesis H<sub>0</sub> and conclude that math scores of non-Doctors are lesser than or equal to those of Doctors.\n"
   ]
  },
  {
   "cell_type": "markdown",
   "metadata": {},
   "source": [
    "**Interpretation:** This result implies that career aspirations (specifically whether a student aspires to be a doctor or not) do not have a significant impact on math performance. It suggests that math ability is not strongly linked to career goals in this sample, which might reflect a broader trend of students with varying career aspirations performing similarly in core subjects like math.\n"
   ]
  },
  {
   "cell_type": "markdown",
   "metadata": {},
   "source": [
    "**3. If weekly_self_study_hours of males are greater than females.**\n",
    "\n",
    "H<sub>0</sub>: Weekly self study hours of males are lesser than or equal to females  \n",
    "H<sub>a</sub>: Weekly self study hours of males are greater than females\n"
   ]
  },
  {
   "cell_type": "code",
   "execution_count": 77,
   "metadata": {},
   "outputs": [
    {
     "data": {
      "text/plain": [
       "0       27\n",
       "4       10\n",
       "6       23\n",
       "7       34\n",
       "8       25\n",
       "        ..\n",
       "1992    12\n",
       "1993    46\n",
       "1994    19\n",
       "1995    30\n",
       "1996    20\n",
       "Name: weekly_self_study_hours, Length: 998, dtype: int64"
      ]
     },
     "metadata": {},
     "output_type": "display_data"
    },
    {
     "data": {
      "text/plain": [
       "1       47\n",
       "2       13\n",
       "3        3\n",
       "5       26\n",
       "9       18\n",
       "        ..\n",
       "1987     8\n",
       "1991    27\n",
       "1997    14\n",
       "1998     5\n",
       "1999    27\n",
       "Name: weekly_self_study_hours, Length: 1002, dtype: int64"
      ]
     },
     "metadata": {},
     "output_type": "display_data"
    },
    {
     "data": {
      "text/plain": [
       "TtestResult(statistic=3.4567831650474443, pvalue=0.00027905018418441824, df=1998.0)"
      ]
     },
     "execution_count": 77,
     "metadata": {},
     "output_type": "execute_result"
    }
   ],
   "source": [
    "male_study_hours = df[df['gender'] == 'male']['weekly_self_study_hours']\n",
    "display(male_study_hours)\n",
    "female_study_hours = df[df['gender'] == 'female']['weekly_self_study_hours']\n",
    "display(female_study_hours)\n",
    "\n",
    "stats.ttest_ind(male_study_hours, female_study_hours, alternative='greater')"
   ]
  },
  {
   "cell_type": "markdown",
   "metadata": {},
   "source": [
    "**Conclusion:** Since p-value < 0.05, we reject the null hypothesis H<sub>0</sub>, and conclude that weekly self study hours of males are greater than that of females.\n"
   ]
  },
  {
   "cell_type": "markdown",
   "metadata": {},
   "source": [
    "**Interpretation:** This result points to a difference in study habits between male and female students, where males might allocate more time to independent study. This could reflect differences in time management, study priorities, or other external factors such as work or family commitments.\n"
   ]
  },
  {
   "cell_type": "markdown",
   "metadata": {},
   "source": [
    "**4. If math_score of no part_time_job male students are greater than part_time_job male\n",
    "students.**\n",
    "\n",
    "H<sub>0</sub>: Math scores of male students without part-time jobs are lesser than or equal to the math score of male students with part-time jobs.  \n",
    "H<sub>a</sub>: Math scores of male students without part-time jobs are greater than the math score of male students with part-time jobs.\n"
   ]
  },
  {
   "cell_type": "code",
   "execution_count": 78,
   "metadata": {},
   "outputs": [
    {
     "data": {
      "text/plain": [
       "0       73\n",
       "4       84\n",
       "6       99\n",
       "8       94\n",
       "11      80\n",
       "        ..\n",
       "1992    79\n",
       "1993    92\n",
       "1994    76\n",
       "1995    83\n",
       "1996    89\n",
       "Name: math_score, Length: 849, dtype: int64"
      ]
     },
     "metadata": {},
     "output_type": "display_data"
    },
    {
     "data": {
      "text/plain": [
       "7        95\n",
       "20      100\n",
       "41       65\n",
       "44       54\n",
       "45       88\n",
       "       ... \n",
       "1925     62\n",
       "1940     99\n",
       "1958     88\n",
       "1966     82\n",
       "1984     79\n",
       "Name: math_score, Length: 149, dtype: int64"
      ]
     },
     "metadata": {},
     "output_type": "display_data"
    },
    {
     "data": {
      "text/plain": [
       "TtestResult(statistic=5.8026672393780085, pvalue=4.382023975012475e-09, df=996.0)"
      ]
     },
     "execution_count": 78,
     "metadata": {},
     "output_type": "execute_result"
    }
   ],
   "source": [
    "male_students = df[df['gender'] == 'male']\n",
    "\n",
    "no_job_math_scores = male_students[male_students['part_time_job'] == False]['math_score']\n",
    "display(no_job_math_scores)\n",
    "job_math_scores = male_students[male_students['part_time_job'] == True]['math_score']\n",
    "display(job_math_scores)\n",
    "\n",
    "stats.ttest_ind(no_job_math_scores, job_math_scores, alternative='greater')\n"
   ]
  },
  {
   "cell_type": "markdown",
   "metadata": {},
   "source": [
    "**Conclusion:** Since p-value < 0.05, we reject the null hypothesis H<sub>0</sub>, and conclude that math scores of male students without part-time jobs are higher than those with part-time jobs.\n"
   ]
  },
  {
   "cell_type": "markdown",
   "metadata": {},
   "source": [
    "**Interpretation:** This finding suggests that holding a part-time job might negatively impact the academic performance of male students, particularly in math. Part-time jobs might limit the amount of time and energy available for studying, which can lead to lower academic outcomes.\n"
   ]
  },
  {
   "cell_type": "markdown",
   "metadata": {},
   "source": [
    "**5. If the average of history_score is less than geography_score.**\n",
    "\n",
    "H<sub>0</sub>: Average history score is greater than or equal to the average geography score.  \n",
    "H<sub>a</sub>: Average history score is lesser than the average geography score.\n"
   ]
  },
  {
   "cell_type": "code",
   "execution_count": 79,
   "metadata": {},
   "outputs": [
    {
     "data": {
      "text/plain": [
       "0       81\n",
       "1       86\n",
       "2       97\n",
       "3       74\n",
       "4       77\n",
       "        ..\n",
       "1995    77\n",
       "1996    65\n",
       "1997    85\n",
       "1998    96\n",
       "1999    99\n",
       "Name: history_score, Length: 2000, dtype: int64"
      ]
     },
     "metadata": {},
     "output_type": "display_data"
    },
    {
     "data": {
      "text/plain": [
       "0        87\n",
       "1        90\n",
       "2        94\n",
       "3        86\n",
       "4        76\n",
       "       ... \n",
       "1995     82\n",
       "1996     73\n",
       "1997     78\n",
       "1998     75\n",
       "1999    100\n",
       "Name: geography_score, Length: 2000, dtype: int64"
      ]
     },
     "metadata": {},
     "output_type": "display_data"
    },
    {
     "data": {
      "text/plain": [
       "TtestResult(statistic=-1.4412586066465385, pvalue=0.07479497633658547, df=3998.0)"
      ]
     },
     "execution_count": 79,
     "metadata": {},
     "output_type": "execute_result"
    }
   ],
   "source": [
    "display(df['history_score'])\n",
    "display(df['geography_score'])\n",
    "\n",
    "stats.ttest_ind(df[\"history_score\"], df[\"geography_score\"], alternative='less')"
   ]
  },
  {
   "cell_type": "markdown",
   "metadata": {},
   "source": [
    "**Conclusion:** Since p-value ≥ 0.05, we fail to reject the null hypothesis H<sub>0</sub>, and conclude that the average history score is greater than or equal to the average geography score.\n"
   ]
  },
  {
   "cell_type": "markdown",
   "metadata": {},
   "source": [
    "**Interpretation:** The lack of a significant difference between history and geography scores suggests that students perform similarly in both subjects. This might reflect that the skills or knowledge required for success in history and geography are similar, or that students allocate comparable efforts to both subjects.\n"
   ]
  },
  {
   "cell_type": "markdown",
   "metadata": {},
   "source": [
    "**6. If the average of math_score is greater than biology_score.**\n",
    "\n",
    "H<sub>0</sub>: Average math score is lesser than or equal to the average biology score.  \n",
    "H<sub>a</sub>: Average math score is greater than the average biology score.\n"
   ]
  },
  {
   "cell_type": "code",
   "execution_count": 80,
   "metadata": {},
   "outputs": [
    {
     "data": {
      "text/plain": [
       "0       73\n",
       "1       90\n",
       "2       81\n",
       "3       71\n",
       "4       84\n",
       "        ..\n",
       "1995    83\n",
       "1996    89\n",
       "1997    97\n",
       "1998    51\n",
       "1999    82\n",
       "Name: math_score, Length: 2000, dtype: int64"
      ]
     },
     "metadata": {},
     "output_type": "display_data"
    },
    {
     "data": {
      "text/plain": [
       "0       63\n",
       "1       90\n",
       "2       65\n",
       "3       89\n",
       "4       80\n",
       "        ..\n",
       "1995    75\n",
       "1996    87\n",
       "1997    68\n",
       "1998    95\n",
       "1999    83\n",
       "Name: biology_score, Length: 2000, dtype: int64"
      ]
     },
     "metadata": {},
     "output_type": "display_data"
    },
    {
     "data": {
      "text/plain": [
       "TtestResult(statistic=9.082620143235266, pvalue=8.146293509285797e-20, df=3998.0)"
      ]
     },
     "execution_count": 80,
     "metadata": {},
     "output_type": "execute_result"
    }
   ],
   "source": [
    "display(df['math_score'])\n",
    "display(df['biology_score'])\n",
    "\n",
    "stats.ttest_ind(df[\"math_score\"], df[\"biology_score\"], alternative='greater')"
   ]
  },
  {
   "cell_type": "markdown",
   "metadata": {},
   "source": [
    "**Conclusion:** Since p-value <> 0.05, we reject the null hypothesis H<sub>0</sub>, and conclude that the average math score is greater than the average biology score.\n"
   ]
  },
  {
   "cell_type": "markdown",
   "metadata": {},
   "source": [
    "**Interpretation:** This result indicates that math scores are higher than biology scores on average. This could reflect a stronger emphasis on math in the curriculum, better math instruction, or it could signal that students find biology more challenging.\n"
   ]
  },
  {
   "cell_type": "markdown",
   "metadata": {},
   "source": [
    "**7. If weekly_self_study_hours of extracurricular_activities is less than no\n",
    "extracurricular_activities.**\n",
    "\n",
    "H<sub>0</sub>: The average weekly self-study hours of students who participate in extracurricular activities is greater than or equal to those who don't.  \n",
    "H<sub>a</sub>: The average weekly self-study hours of students who participate in extracurricular activities is lesser than those who don't.\n"
   ]
  },
  {
   "cell_type": "code",
   "execution_count": 81,
   "metadata": {},
   "outputs": [
    {
     "data": {
      "text/plain": [
       "2       13\n",
       "6       23\n",
       "7       34\n",
       "9       18\n",
       "16      30\n",
       "        ..\n",
       "1973    26\n",
       "1974    11\n",
       "1977     5\n",
       "1992    12\n",
       "1998     5\n",
       "Name: weekly_self_study_hours, Length: 408, dtype: int64"
      ]
     },
     "metadata": {},
     "output_type": "display_data"
    },
    {
     "data": {
      "text/plain": [
       "0       27\n",
       "1       47\n",
       "3        3\n",
       "4       10\n",
       "5       26\n",
       "        ..\n",
       "1994    19\n",
       "1995    30\n",
       "1996    20\n",
       "1997    14\n",
       "1999    27\n",
       "Name: weekly_self_study_hours, Length: 1592, dtype: int64"
      ]
     },
     "metadata": {},
     "output_type": "display_data"
    },
    {
     "data": {
      "text/plain": [
       "TtestResult(statistic=-2.3506159912870577, pvalue=0.009419553161020004, df=1998.0)"
      ]
     },
     "execution_count": 81,
     "metadata": {},
     "output_type": "execute_result"
    }
   ],
   "source": [
    "extra_curricular_study_hours = df[df['extracurricular_activities'] == True]['weekly_self_study_hours']\n",
    "display(extra_curricular_study_hours)\n",
    "non_extra_curricular_study_hours = df[df['extracurricular_activities'] == False]['weekly_self_study_hours']\n",
    "display(non_extra_curricular_study_hours)\n",
    "\n",
    "stats.ttest_ind(extra_curricular_study_hours, non_extra_curricular_study_hours, alternative='less')"
   ]
  },
  {
   "cell_type": "markdown",
   "metadata": {},
   "source": [
    "**Conclusion:** Since p-value < 0.05, we reject the null hypothesis H<sub>0</sub>, and conclude that the average weekly self-study hours of students who participate in extracurricular activities is lesser than those who don't participate.\n"
   ]
  },
  {
   "cell_type": "markdown",
   "metadata": {},
   "source": [
    "**Interpretation:** This suggests that involvement in extracurricular activities might reduce the amount of time students spend on independent study. While extracurricular activities provide valuable skills and experiences, this result could indicate that balancing academics and extracurriculars can be challenging.\n"
   ]
  },
  {
   "cell_type": "markdown",
   "metadata": {},
   "source": [
    "**8. If absence_days of females are less than males.**\n",
    "\n",
    "H<sub>0</sub>: Absences of female students are greater than or equal to the absences of male students.  \n",
    "H<sub>a</sub>: Absences of female students are lesser than the absences of male students.\n"
   ]
  },
  {
   "cell_type": "code",
   "execution_count": 82,
   "metadata": {},
   "outputs": [
    {
     "data": {
      "text/plain": [
       "1        2\n",
       "2        9\n",
       "3        5\n",
       "5        2\n",
       "9        3\n",
       "        ..\n",
       "1987     6\n",
       "1991     4\n",
       "1997     5\n",
       "1998    10\n",
       "1999     5\n",
       "Name: absence_days, Length: 1002, dtype: int64"
      ]
     },
     "metadata": {},
     "output_type": "display_data"
    },
    {
     "data": {
      "text/plain": [
       "0       3\n",
       "4       5\n",
       "6       3\n",
       "7       2\n",
       "8       6\n",
       "       ..\n",
       "1992    2\n",
       "1993    3\n",
       "1994    1\n",
       "1995    2\n",
       "1996    2\n",
       "Name: absence_days, Length: 998, dtype: int64"
      ]
     },
     "metadata": {},
     "output_type": "display_data"
    },
    {
     "data": {
      "text/plain": [
       "TtestResult(statistic=1.3128102331149203, pvalue=0.9053011661354035, df=1998.0)"
      ]
     },
     "execution_count": 82,
     "metadata": {},
     "output_type": "execute_result"
    }
   ],
   "source": [
    "female_absence_days = df[df['gender'] == 'female']['absence_days']\n",
    "display(female_absence_days)\n",
    "male_absence_days = df[df['gender'] == 'male']['absence_days']\n",
    "display(male_absence_days)\n",
    "\n",
    "stats.ttest_ind(female_absence_days, male_absence_days, alternative='less')"
   ]
  },
  {
   "cell_type": "markdown",
   "metadata": {},
   "source": [
    "**Conclusion:** Since p-value ≥ 0.05, we fail to reject the null hypothesis H<sub>0</sub>, and conclude that the absences of female students are greater than or equal to the absences of male students.\n"
   ]
  },
  {
   "cell_type": "markdown",
   "metadata": {},
   "source": [
    "**Interpretation:** This finding suggests that both male and female students have similar attendance records, indicating no gender-based differences in absenteeism. This could be interpreted as both genders having similar access to education and facing similar challenges that might affect attendance.\n"
   ]
  },
  {
   "cell_type": "markdown",
   "metadata": {},
   "source": [
    "**9. Is there any Association between gender and career_aspiration.**\n",
    "\n",
    "H<sub>0</sub>: Gender and Career Aspiration are independent and not related to each other.  \n",
    "H<sub>a</sub>: Gender and Career Aspiration are dependent and related to each other.\n"
   ]
  },
  {
   "cell_type": "code",
   "execution_count": 83,
   "metadata": {},
   "outputs": [
    {
     "data": {
      "text/html": [
       "<div>\n",
       "<style scoped>\n",
       "    .dataframe tbody tr th:only-of-type {\n",
       "        vertical-align: middle;\n",
       "    }\n",
       "\n",
       "    .dataframe tbody tr th {\n",
       "        vertical-align: top;\n",
       "    }\n",
       "\n",
       "    .dataframe thead th {\n",
       "        text-align: right;\n",
       "    }\n",
       "</style>\n",
       "<table border=\"1\" class=\"dataframe\">\n",
       "  <thead>\n",
       "    <tr style=\"text-align: right;\">\n",
       "      <th>career_aspiration</th>\n",
       "      <th>Accountant</th>\n",
       "      <th>Artist</th>\n",
       "      <th>Banker</th>\n",
       "      <th>Business Owner</th>\n",
       "      <th>Construction Engineer</th>\n",
       "      <th>Designer</th>\n",
       "      <th>Doctor</th>\n",
       "      <th>Game Developer</th>\n",
       "      <th>Government Officer</th>\n",
       "      <th>Lawyer</th>\n",
       "      <th>Real Estate Developer</th>\n",
       "      <th>Scientist</th>\n",
       "      <th>Software Engineer</th>\n",
       "      <th>Stock Investor</th>\n",
       "      <th>Teacher</th>\n",
       "      <th>Unknown</th>\n",
       "      <th>Writer</th>\n",
       "      <th>All</th>\n",
       "    </tr>\n",
       "    <tr>\n",
       "      <th>gender</th>\n",
       "      <th></th>\n",
       "      <th></th>\n",
       "      <th></th>\n",
       "      <th></th>\n",
       "      <th></th>\n",
       "      <th></th>\n",
       "      <th></th>\n",
       "      <th></th>\n",
       "      <th></th>\n",
       "      <th></th>\n",
       "      <th></th>\n",
       "      <th></th>\n",
       "      <th></th>\n",
       "      <th></th>\n",
       "      <th></th>\n",
       "      <th></th>\n",
       "      <th></th>\n",
       "      <th></th>\n",
       "    </tr>\n",
       "  </thead>\n",
       "  <tbody>\n",
       "    <tr>\n",
       "      <th>female</th>\n",
       "      <td>64</td>\n",
       "      <td>42</td>\n",
       "      <td>103</td>\n",
       "      <td>164</td>\n",
       "      <td>0</td>\n",
       "      <td>32</td>\n",
       "      <td>53</td>\n",
       "      <td>31</td>\n",
       "      <td>31</td>\n",
       "      <td>66</td>\n",
       "      <td>45</td>\n",
       "      <td>19</td>\n",
       "      <td>141</td>\n",
       "      <td>25</td>\n",
       "      <td>59</td>\n",
       "      <td>109</td>\n",
       "      <td>18</td>\n",
       "      <td>1002</td>\n",
       "    </tr>\n",
       "    <tr>\n",
       "      <th>male</th>\n",
       "      <td>62</td>\n",
       "      <td>25</td>\n",
       "      <td>66</td>\n",
       "      <td>145</td>\n",
       "      <td>68</td>\n",
       "      <td>24</td>\n",
       "      <td>66</td>\n",
       "      <td>32</td>\n",
       "      <td>30</td>\n",
       "      <td>72</td>\n",
       "      <td>38</td>\n",
       "      <td>20</td>\n",
       "      <td>174</td>\n",
       "      <td>48</td>\n",
       "      <td>0</td>\n",
       "      <td>114</td>\n",
       "      <td>14</td>\n",
       "      <td>998</td>\n",
       "    </tr>\n",
       "    <tr>\n",
       "      <th>All</th>\n",
       "      <td>126</td>\n",
       "      <td>67</td>\n",
       "      <td>169</td>\n",
       "      <td>309</td>\n",
       "      <td>68</td>\n",
       "      <td>56</td>\n",
       "      <td>119</td>\n",
       "      <td>63</td>\n",
       "      <td>61</td>\n",
       "      <td>138</td>\n",
       "      <td>83</td>\n",
       "      <td>39</td>\n",
       "      <td>315</td>\n",
       "      <td>73</td>\n",
       "      <td>59</td>\n",
       "      <td>223</td>\n",
       "      <td>32</td>\n",
       "      <td>2000</td>\n",
       "    </tr>\n",
       "  </tbody>\n",
       "</table>\n",
       "</div>"
      ],
      "text/plain": [
       "career_aspiration  Accountant  Artist  Banker  Business Owner  \\\n",
       "gender                                                          \n",
       "female                     64      42     103             164   \n",
       "male                       62      25      66             145   \n",
       "All                       126      67     169             309   \n",
       "\n",
       "career_aspiration  Construction Engineer  Designer  Doctor  Game Developer  \\\n",
       "gender                                                                       \n",
       "female                                 0        32      53              31   \n",
       "male                                  68        24      66              32   \n",
       "All                                   68        56     119              63   \n",
       "\n",
       "career_aspiration  Government Officer  Lawyer  Real Estate Developer  \\\n",
       "gender                                                                 \n",
       "female                             31      66                     45   \n",
       "male                               30      72                     38   \n",
       "All                                61     138                     83   \n",
       "\n",
       "career_aspiration  Scientist  Software Engineer  Stock Investor  Teacher  \\\n",
       "gender                                                                     \n",
       "female                    19                141              25       59   \n",
       "male                      20                174              48        0   \n",
       "All                       39                315              73       59   \n",
       "\n",
       "career_aspiration  Unknown  Writer   All  \n",
       "gender                                    \n",
       "female                 109      18  1002  \n",
       "male                   114      14   998  \n",
       "All                    223      32  2000  "
      ]
     },
     "metadata": {},
     "output_type": "display_data"
    },
    {
     "data": {
      "text/plain": [
       "Chi2ContingencyResult(statistic=155.39466648000175, pvalue=1.9087221746002932e-17, dof=34, expected_freq=array([[  63.126,   33.567,   84.669,  154.809,   34.068,   28.056,\n",
       "          59.619,   31.563,   30.561,   69.138,   41.583,   19.539,\n",
       "         157.815,   36.573,   29.559,  111.723,   16.032, 1002.   ],\n",
       "       [  62.874,   33.433,   84.331,  154.191,   33.932,   27.944,\n",
       "          59.381,   31.437,   30.439,   68.862,   41.417,   19.461,\n",
       "         157.185,   36.427,   29.441,  111.277,   15.968,  998.   ],\n",
       "       [ 126.   ,   67.   ,  169.   ,  309.   ,   68.   ,   56.   ,\n",
       "         119.   ,   63.   ,   61.   ,  138.   ,   83.   ,   39.   ,\n",
       "         315.   ,   73.   ,   59.   ,  223.   ,   32.   , 2000.   ]]))"
      ]
     },
     "execution_count": 83,
     "metadata": {},
     "output_type": "execute_result"
    }
   ],
   "source": [
    "chisqt = pd.crosstab(df['gender'], df['career_aspiration'], margins=True)\n",
    "display(chisqt)\n",
    "\n",
    "stats.chi2_contingency(chisqt)"
   ]
  },
  {
   "cell_type": "markdown",
   "metadata": {},
   "source": [
    "**Conclusion:** Since p-value < 0.05, we reject the null hypothesis H<sub>0</sub>, and conclude that gender and career aspiration are dependent and related to each other.\n"
   ]
  },
  {
   "cell_type": "markdown",
   "metadata": {},
   "source": [
    "**Interpretation:** This result suggests that career aspirations are influenced by gender, which could reflect societal or cultural influences on career choices. For example, certain careers (like doctors or engineers) might attract more males, while others (such as teaching or nursing) might have more females. This insight can help educators and counselors address gender stereotypes in career guidance and encourage students to explore careers regardless of gender norms.\n"
   ]
  },
  {
   "cell_type": "markdown",
   "metadata": {},
   "source": [
    "**10. Is there any Association between gender and part_time_job.**\n",
    "\n",
    "H<sub>0</sub>: Gender and Part-time Job are independent and not related to each other.  \n",
    "H<sub>a</sub>: Gender and Part-time Job are dependent and related to each other.\n"
   ]
  },
  {
   "cell_type": "code",
   "execution_count": 84,
   "metadata": {},
   "outputs": [
    {
     "data": {
      "text/html": [
       "<div>\n",
       "<style scoped>\n",
       "    .dataframe tbody tr th:only-of-type {\n",
       "        vertical-align: middle;\n",
       "    }\n",
       "\n",
       "    .dataframe tbody tr th {\n",
       "        vertical-align: top;\n",
       "    }\n",
       "\n",
       "    .dataframe thead th {\n",
       "        text-align: right;\n",
       "    }\n",
       "</style>\n",
       "<table border=\"1\" class=\"dataframe\">\n",
       "  <thead>\n",
       "    <tr style=\"text-align: right;\">\n",
       "      <th>part_time_job</th>\n",
       "      <th>False</th>\n",
       "      <th>True</th>\n",
       "      <th>All</th>\n",
       "    </tr>\n",
       "    <tr>\n",
       "      <th>gender</th>\n",
       "      <th></th>\n",
       "      <th></th>\n",
       "      <th></th>\n",
       "    </tr>\n",
       "  </thead>\n",
       "  <tbody>\n",
       "    <tr>\n",
       "      <th>female</th>\n",
       "      <td>835</td>\n",
       "      <td>167</td>\n",
       "      <td>1002</td>\n",
       "    </tr>\n",
       "    <tr>\n",
       "      <th>male</th>\n",
       "      <td>849</td>\n",
       "      <td>149</td>\n",
       "      <td>998</td>\n",
       "    </tr>\n",
       "    <tr>\n",
       "      <th>All</th>\n",
       "      <td>1684</td>\n",
       "      <td>316</td>\n",
       "      <td>2000</td>\n",
       "    </tr>\n",
       "  </tbody>\n",
       "</table>\n",
       "</div>"
      ],
      "text/plain": [
       "part_time_job  False  True   All\n",
       "gender                          \n",
       "female           835   167  1002\n",
       "male             849   149   998\n",
       "All             1684   316  2000"
      ]
     },
     "metadata": {},
     "output_type": "display_data"
    },
    {
     "data": {
      "text/plain": [
       "Chi2ContingencyResult(statistic=1.1337105392319442, pvalue=0.8888874344046543, dof=4, expected_freq=array([[ 843.684,  158.316, 1002.   ],\n",
       "       [ 840.316,  157.684,  998.   ],\n",
       "       [1684.   ,  316.   , 2000.   ]]))"
      ]
     },
     "execution_count": 84,
     "metadata": {},
     "output_type": "execute_result"
    }
   ],
   "source": [
    "chisqt = pd.crosstab(df['gender'], df['part_time_job'], margins=True)\n",
    "display(chisqt)\n",
    "\n",
    "stats.chi2_contingency(chisqt)"
   ]
  },
  {
   "cell_type": "markdown",
   "metadata": {},
   "source": [
    "**Conclusion:** Since p-value ≥ 0.05, we fail to reject the null hypothesis H<sub>0</sub>, and conclude that gender and part-time job are independent and not related to each other.\n"
   ]
  },
  {
   "cell_type": "markdown",
   "metadata": {},
   "source": [
    "**Interpretation:** This result suggests that there is no significant association between gender and whether a student has a part-time job. Both male and female students are equally likely to hold part-time jobs, which might indicate that the need or desire to work part-time is not influenced by gender in this sample.\n"
   ]
  }
 ],
 "metadata": {
  "kernelspec": {
   "display_name": "Python 3",
   "language": "python",
   "name": "python3"
  },
  "language_info": {
   "codemirror_mode": {
    "name": "ipython",
    "version": 3
   },
   "file_extension": ".py",
   "mimetype": "text/x-python",
   "name": "python",
   "nbconvert_exporter": "python",
   "pygments_lexer": "ipython3",
   "version": "3.12.2"
  }
 },
 "nbformat": 4,
 "nbformat_minor": 2
}
